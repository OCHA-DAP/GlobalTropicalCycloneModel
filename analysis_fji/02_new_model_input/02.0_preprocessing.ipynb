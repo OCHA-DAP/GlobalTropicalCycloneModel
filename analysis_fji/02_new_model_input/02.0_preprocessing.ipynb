{
 "cells": [
  {
   "cell_type": "markdown",
   "metadata": {},
   "source": [
    "# Outlining some pre-processing"
   ]
  },
  {
   "cell_type": "code",
   "execution_count": 107,
   "metadata": {},
   "outputs": [
    {
     "name": "stdout",
     "output_type": "stream",
     "text": [
      "The jupyter_black extension is already loaded. To reload it, use:\n",
      "  %reload_ext jupyter_black\n"
     ]
    }
   ],
   "source": [
    "%load_ext jupyter_black\n",
    "import os\n",
    "from pathlib import Path\n",
    "import geopandas as gpd\n",
    "from shapely.geometry import Polygon\n",
    "import numpy as np\n",
    "import matplotlib.pyplot as plt\n",
    "import pandas as pd\n",
    "from dotenv import load_dotenv\n",
    "from ochanticipy import GeoBoundingBox\n",
    "\n",
    "load_dotenv()\n",
    "\n",
    "pd.set_option(\"display.float_format\", lambda x: \"%.5f\" % x)"
   ]
  },
  {
   "cell_type": "code",
   "execution_count": 82,
   "metadata": {},
   "outputs": [],
   "source": [
    "# gis_dir = Path(os.getenv(\"STORM_DATA_DIR\")) / \"gis files/\"\n",
    "FJI_CRS = \"+proj=longlat +ellps=WGS84 +lon_wrap=180 +datum=WGS84 +no_defs\"\n",
    "input_dir = (\n",
    "    Path(os.getenv(\"STORM_DATA_DIR\"))\n",
    "    / \"analysis/02_new_model_input_fji/02_housing_damage/input/\"\n",
    ")\n",
    "output_dir = (\n",
    "    Path(os.getenv(\"STORM_DATA_DIR\"))\n",
    "    / \"analysis/02_new_model_input_fji/02_housing_damage/output/\"\n",
    ")\n",
    "adm3_shp = gpd.read_file(input_dir / \"fji_polbnda_adm3_tikina.zip\")\n",
    "adm3_shp = adm3_shp.set_crs(\"EPSG:3832\")\n",
    "# +lon_wrap=180 is needed to deal with Fiji crossing antimeridian\n",
    "adm3_shp = adm3_shp.to_crs(crs=FJI_CRS)"
   ]
  },
  {
   "cell_type": "code",
   "execution_count": 7,
   "metadata": {},
   "outputs": [],
   "source": [
    "fji_east_bld = gpd.read_file(\n",
    "    input_dir / \"hotosm_fji_east_buildings_polygons_shp.zip\"\n",
    ")\n",
    "fji_west_bld = gpd.read_file(\n",
    "    input_dir / \"hotosm_fji_west_buildings_polygons_shp.zip\"\n",
    ")"
   ]
  },
  {
   "cell_type": "code",
   "execution_count": 9,
   "metadata": {},
   "outputs": [],
   "source": [
    "fji_bld = pd.concat([fji_east_bld, fji_west_bld])"
   ]
  },
  {
   "cell_type": "code",
   "execution_count": 53,
   "metadata": {},
   "outputs": [
    {
     "data": {
      "text/plain": [
       "<Axes: >"
      ]
     },
     "execution_count": 53,
     "metadata": {},
     "output_type": "execute_result"
    },
    {
     "data": {
      "image/png": "[encoded data removed]",
      "text/plain": [
       "<Figure size 640x480 with 1 Axes>"
      ]
     },
     "metadata": {},
     "output_type": "display_data"
    }
   ],
   "source": [
    "adm3_shp.loc[:, \"geometry\"].plot()"
   ]
  },
  {
   "cell_type": "code",
   "execution_count": 54,
   "metadata": {},
   "outputs": [
    {
     "name": "stdout",
     "output_type": "stream",
     "text": [
      "[176.88805955 -21.04145368 181.76993845 -12.47952953]\n"
     ]
    }
   ],
   "source": [
    "print(adm3_shp.total_bounds)"
   ]
  },
  {
   "cell_type": "markdown",
   "metadata": {},
   "source": [
    "## Creation of grid"
   ]
  },
  {
   "cell_type": "code",
   "execution_count": 57,
   "metadata": {},
   "outputs": [
    {
     "name": "stdout",
     "output_type": "stream",
     "text": [
      "[176.88805955426506, 181.76993845011103]\n"
     ]
    },
    {
     "data": {
      "text/html": [
       "<div>\n",
       "<style scoped>\n",
       "    .dataframe tbody tr th:only-of-type {\n",
       "        vertical-align: middle;\n",
       "    }\n",
       "\n",
       "    .dataframe tbody tr th {\n",
       "        vertical-align: top;\n",
       "    }\n",
       "\n",
       "    .dataframe thead th {\n",
       "        text-align: right;\n",
       "    }\n",
       "</style>\n",
       "<table border=\"1\" class=\"dataframe\">\n",
       "  <thead>\n",
       "    <tr style=\"text-align: right;\">\n",
       "      <th></th>\n",
       "      <th>geometry</th>\n",
       "      <th>id</th>\n",
       "    </tr>\n",
       "  </thead>\n",
       "  <tbody>\n",
       "    <tr>\n",
       "      <th>0</th>\n",
       "      <td>POLYGON ((176.88806 -12.44145, 176.98806 -12.4...</td>\n",
       "      <td>1</td>\n",
       "    </tr>\n",
       "    <tr>\n",
       "      <th>1</th>\n",
       "      <td>POLYGON ((176.88806 -12.54145, 176.98806 -12.5...</td>\n",
       "      <td>2</td>\n",
       "    </tr>\n",
       "    <tr>\n",
       "      <th>2</th>\n",
       "      <td>POLYGON ((176.88806 -12.64145, 176.98806 -12.6...</td>\n",
       "      <td>3</td>\n",
       "    </tr>\n",
       "    <tr>\n",
       "      <th>3</th>\n",
       "      <td>POLYGON ((176.88806 -12.74145, 176.98806 -12.7...</td>\n",
       "      <td>4</td>\n",
       "    </tr>\n",
       "    <tr>\n",
       "      <th>4</th>\n",
       "      <td>POLYGON ((176.88806 -12.84145, 176.98806 -12.8...</td>\n",
       "      <td>5</td>\n",
       "    </tr>\n",
       "  </tbody>\n",
       "</table>\n",
       "</div>"
      ],
      "text/plain": [
       "                                            geometry  id\n",
       "0  POLYGON ((176.88806 -12.44145, 176.98806 -12.4...   1\n",
       "1  POLYGON ((176.88806 -12.54145, 176.98806 -12.5...   2\n",
       "2  POLYGON ((176.88806 -12.64145, 176.98806 -12.6...   3\n",
       "3  POLYGON ((176.88806 -12.74145, 176.98806 -12.7...   4\n",
       "4  POLYGON ((176.88806 -12.84145, 176.98806 -12.8...   5"
      ]
     },
     "execution_count": 57,
     "metadata": {},
     "output_type": "execute_result"
    }
   ],
   "source": [
    "# grid creation\n",
    "xmin, ymin, xmax, ymax = adm3_shp.total_bounds\n",
    "print([xmin, xmax])\n",
    "\n",
    "cell_size = 0.1\n",
    "\n",
    "cols = list(np.arange(xmin, xmax + cell_size, cell_size))\n",
    "rows = list(np.arange(ymin, ymax + cell_size, cell_size))\n",
    "rows.reverse()\n",
    "# using list comprehension instead of loop\n",
    "polygons = [\n",
    "    Polygon(\n",
    "        [\n",
    "            (x, y),\n",
    "            (x + cell_size, y),\n",
    "            (x + cell_size, y - cell_size),\n",
    "            (x, y - cell_size),\n",
    "        ]\n",
    "    )\n",
    "    for x in cols\n",
    "    for y in rows\n",
    "]\n",
    "grid = gpd.GeoDataFrame({\"geometry\": polygons}, crs=adm3_shp.crs)\n",
    "grid[\"id\"] = grid.index + 1\n",
    "# grid.to_crs(epsg=4326, inplace=True)\n",
    "grid.head()"
   ]
  },
  {
   "cell_type": "code",
   "execution_count": 58,
   "metadata": {},
   "outputs": [
    {
     "data": {
      "text/plain": [
       "<Axes: >"
      ]
     },
     "execution_count": 58,
     "metadata": {},
     "output_type": "execute_result"
    },
    {
     "data": {
      "image/png": "[encoded data removed]",
      "text/plain": [
       "<Figure size 640x480 with 1 Axes>"
      ]
     },
     "metadata": {},
     "output_type": "display_data"
    }
   ],
   "source": [
    "grid.loc[:, \"geometry\"].plot()"
   ]
  },
  {
   "cell_type": "code",
   "execution_count": 59,
   "metadata": {},
   "outputs": [],
   "source": [
    "# write as geopackage\n",
    "grid.to_file(output_dir / \"fji_0.1_degree_grid.gpkg\", driver=\"GPKG\")"
   ]
  },
  {
   "cell_type": "markdown",
   "metadata": {},
   "source": [
    "## Creation of centroids"
   ]
  },
  {
   "cell_type": "code",
   "execution_count": 60,
   "metadata": {},
   "outputs": [
    {
     "name": "stderr",
     "output_type": "stream",
     "text": [
      "/var/folders/66/764yc5p92nvdc_nm3xmy5rn40000gn/T/ipykernel_45665/2061595231.py:4: UserWarning: Geometry is in a geographic CRS. Results from 'centroid' are likely incorrect. Use 'GeoSeries.to_crs()' to re-project geometries to a projected CRS before this operation.\n",
      "\n",
      "  grid[\"Longitude\"] = grid[\"geometry\"].centroid.map(lambda p: p.x)\n",
      "/var/folders/66/764yc5p92nvdc_nm3xmy5rn40000gn/T/ipykernel_45665/2061595231.py:5: UserWarning: Geometry is in a geographic CRS. Results from 'centroid' are likely incorrect. Use 'GeoSeries.to_crs()' to re-project geometries to a projected CRS before this operation.\n",
      "\n",
      "  grid[\"Latitude\"] = grid[\"geometry\"].centroid.map(lambda p: p.y)\n"
     ]
    },
    {
     "data": {
      "text/html": [
       "<div>\n",
       "<style scoped>\n",
       "    .dataframe tbody tr th:only-of-type {\n",
       "        vertical-align: middle;\n",
       "    }\n",
       "\n",
       "    .dataframe tbody tr th {\n",
       "        vertical-align: top;\n",
       "    }\n",
       "\n",
       "    .dataframe thead th {\n",
       "        text-align: right;\n",
       "    }\n",
       "</style>\n",
       "<table border=\"1\" class=\"dataframe\">\n",
       "  <thead>\n",
       "    <tr style=\"text-align: right;\">\n",
       "      <th></th>\n",
       "      <th>geometry</th>\n",
       "      <th>id</th>\n",
       "      <th>Longitude</th>\n",
       "      <th>Latitude</th>\n",
       "      <th>Centroid</th>\n",
       "    </tr>\n",
       "  </thead>\n",
       "  <tbody>\n",
       "    <tr>\n",
       "      <th>0</th>\n",
       "      <td>POLYGON ((176.88806 -12.44145, 176.98806 -12.4...</td>\n",
       "      <td>1</td>\n",
       "      <td>176.93806</td>\n",
       "      <td>-12.49145</td>\n",
       "      <td>176.94E_-12.49N</td>\n",
       "    </tr>\n",
       "    <tr>\n",
       "      <th>1</th>\n",
       "      <td>POLYGON ((176.88806 -12.54145, 176.98806 -12.5...</td>\n",
       "      <td>2</td>\n",
       "      <td>176.93806</td>\n",
       "      <td>-12.59145</td>\n",
       "      <td>176.94E_-12.59N</td>\n",
       "    </tr>\n",
       "    <tr>\n",
       "      <th>2</th>\n",
       "      <td>POLYGON ((176.88806 -12.64145, 176.98806 -12.6...</td>\n",
       "      <td>3</td>\n",
       "      <td>176.93806</td>\n",
       "      <td>-12.69145</td>\n",
       "      <td>176.94E_-12.69N</td>\n",
       "    </tr>\n",
       "    <tr>\n",
       "      <th>3</th>\n",
       "      <td>POLYGON ((176.88806 -12.74145, 176.98806 -12.7...</td>\n",
       "      <td>4</td>\n",
       "      <td>176.93806</td>\n",
       "      <td>-12.79145</td>\n",
       "      <td>176.94E_-12.79N</td>\n",
       "    </tr>\n",
       "    <tr>\n",
       "      <th>4</th>\n",
       "      <td>POLYGON ((176.88806 -12.84145, 176.98806 -12.8...</td>\n",
       "      <td>5</td>\n",
       "      <td>176.93806</td>\n",
       "      <td>-12.89145</td>\n",
       "      <td>176.94E_-12.89N</td>\n",
       "    </tr>\n",
       "  </tbody>\n",
       "</table>\n",
       "</div>"
      ],
      "text/plain": [
       "                                            geometry  id  Longitude  Latitude  \\\n",
       "0  POLYGON ((176.88806 -12.44145, 176.98806 -12.4...   1  176.93806 -12.49145   \n",
       "1  POLYGON ((176.88806 -12.54145, 176.98806 -12.5...   2  176.93806 -12.59145   \n",
       "2  POLYGON ((176.88806 -12.64145, 176.98806 -12.6...   3  176.93806 -12.69145   \n",
       "3  POLYGON ((176.88806 -12.74145, 176.98806 -12.7...   4  176.93806 -12.79145   \n",
       "4  POLYGON ((176.88806 -12.84145, 176.98806 -12.8...   5  176.93806 -12.89145   \n",
       "\n",
       "          Centroid  \n",
       "0  176.94E_-12.49N  \n",
       "1  176.94E_-12.59N  \n",
       "2  176.94E_-12.69N  \n",
       "3  176.94E_-12.79N  \n",
       "4  176.94E_-12.89N  "
      ]
     },
     "execution_count": 60,
     "metadata": {},
     "output_type": "execute_result"
    }
   ],
   "source": [
    "# creating centroids\n",
    "# Grid\n",
    "# Extract lat and lon from the centerpoint\n",
    "grid[\"Longitude\"] = grid[\"geometry\"].centroid.map(lambda p: p.x)\n",
    "grid[\"Latitude\"] = grid[\"geometry\"].centroid.map(lambda p: p.y)\n",
    "grid[\"Centroid\"] = (\n",
    "    round(grid[\"Longitude\"], 2).astype(str)\n",
    "    + \"E\"\n",
    "    + \"_\"\n",
    "    + +round(grid[\"Latitude\"], 2).astype(str)\n",
    "    + \"N\"\n",
    ")\n",
    "grid.head(5)"
   ]
  },
  {
   "cell_type": "code",
   "execution_count": 61,
   "metadata": {},
   "outputs": [
    {
     "name": "stderr",
     "output_type": "stream",
     "text": [
      "/var/folders/66/764yc5p92nvdc_nm3xmy5rn40000gn/T/ipykernel_45665/710311070.py:3: UserWarning: Geometry is in a geographic CRS. Results from 'centroid' are likely incorrect. Use 'GeoSeries.to_crs()' to re-project geometries to a projected CRS before this operation.\n",
      "\n",
      "  grid_centroids[\"geometry\"] = grid_centroids[\"geometry\"].centroid\n"
     ]
    },
    {
     "data": {
      "text/plain": [
       "<Axes: >"
      ]
     },
     "execution_count": 61,
     "metadata": {},
     "output_type": "execute_result"
    },
    {
     "data": {
      "image/png": "[encoded data removed]",
      "text/plain": [
       "<Figure size 640x480 with 1 Axes>"
      ]
     },
     "metadata": {},
     "output_type": "display_data"
    }
   ],
   "source": [
    "# Centroids\n",
    "grid_centroids = grid.copy()\n",
    "grid_centroids[\"geometry\"] = grid_centroids[\"geometry\"].centroid\n",
    "grid_centroids.loc[:, \"geometry\"].plot()"
   ]
  },
  {
   "cell_type": "code",
   "execution_count": 62,
   "metadata": {},
   "outputs": [],
   "source": [
    "# write as geopackage\n",
    "grid_centroids.to_file(\n",
    "    output_dir / \"fji_0.1_degree_grid_centroids.gpkg\", driver=\"GPKG\"\n",
    ")"
   ]
  },
  {
   "cell_type": "code",
   "execution_count": 63,
   "metadata": {},
   "outputs": [
    {
     "name": "stderr",
     "output_type": "stream",
     "text": [
      "/var/folders/66/764yc5p92nvdc_nm3xmy5rn40000gn/T/ipykernel_45665/1343107964.py:3: UserWarning: Geometry is in a geographic CRS. Results from 'centroid' are likely incorrect. Use 'GeoSeries.to_crs()' to re-project geometries to a projected CRS before this operation.\n",
      "\n",
      "  fji_bld_centroids[\"geometry\"] = fji_bld_centroids[\"geometry\"].centroid\n"
     ]
    }
   ],
   "source": [
    "# building centroids\n",
    "fji_bld_centroids = fji_bld.copy()\n",
    "fji_bld_centroids[\"geometry\"] = fji_bld_centroids[\"geometry\"].centroid"
   ]
  },
  {
   "cell_type": "code",
   "execution_count": 64,
   "metadata": {},
   "outputs": [],
   "source": [
    "fji_bld_centroids.to_file(input_dir / \"fji_bld_centroids.gpkg\", driver=\"GPKG\")"
   ]
  },
  {
   "cell_type": "markdown",
   "metadata": {},
   "source": [
    "## Intersection of grid and admin shapefile"
   ]
  },
  {
   "cell_type": "code",
   "execution_count": 66,
   "metadata": {},
   "outputs": [
    {
     "name": "stderr",
     "output_type": "stream",
     "text": [
      "/var/folders/66/764yc5p92nvdc_nm3xmy5rn40000gn/T/ipykernel_45665/1463734603.py:2: UserWarning: `keep_geom_type=True` in overlay resulted in 1 dropped geometries of different geometry types than df1 has. Set `keep_geom_type=False` to retain all geometries\n",
      "  adm3_grid_intersection = gpd.overlay(adm3_shp, grid, how=\"identity\")\n"
     ]
    },
    {
     "data": {
      "text/plain": [
       "(177.0, 178.0, -18.0, -17.0)"
      ]
     },
     "execution_count": 66,
     "metadata": {},
     "output_type": "execute_result"
    },
    {
     "data": {
      "image/png": "[encoded data removed]",
      "text/plain": [
       "<Figure size 640x480 with 1 Axes>"
      ]
     },
     "metadata": {},
     "output_type": "display_data"
    }
   ],
   "source": [
    "# intersection of grid and shapefile\n",
    "adm3_grid_intersection = gpd.overlay(adm3_shp, grid, how=\"identity\")\n",
    "# adm3_grid_intersection = gpd.sjoin(adm3_shp, grid)\n",
    "adm3_grid_intersection.loc[:, \"geometry\"].plot()\n",
    "plt.axis([177, 178, -18, -17])"
   ]
  },
  {
   "cell_type": "code",
   "execution_count": 67,
   "metadata": {},
   "outputs": [],
   "source": [
    "adm3_grid_intersection = adm3_grid_intersection.dropna(subset=[\"id\"])"
   ]
  },
  {
   "cell_type": "code",
   "execution_count": 68,
   "metadata": {},
   "outputs": [],
   "source": [
    "adm3_grid_intersection.to_file(\n",
    "    input_dir / \"fji_adm3_grid_intersection.gpkg\", driver=\"GPKG\"\n",
    ")"
   ]
  },
  {
   "cell_type": "markdown",
   "metadata": {},
   "source": [
    "### For only grids that overlap with land"
   ]
  },
  {
   "cell_type": "code",
   "execution_count": 69,
   "metadata": {},
   "outputs": [],
   "source": [
    "grid_land_overlap = grid.loc[grid[\"id\"].isin(adm3_grid_intersection[\"id\"])]"
   ]
  },
  {
   "cell_type": "code",
   "execution_count": 70,
   "metadata": {},
   "outputs": [],
   "source": [
    "grid_land_overlap.to_file(\n",
    "    output_dir / \"fji_0.1_degree_grid_land_overlap.gpkg\", driver=\"GPKG\"\n",
    ")"
   ]
  },
  {
   "cell_type": "code",
   "execution_count": 71,
   "metadata": {},
   "outputs": [],
   "source": [
    "grid_land_overlap_centroids = grid_centroids.loc[\n",
    "    grid[\"id\"].isin(adm3_grid_intersection[\"id\"])\n",
    "]"
   ]
  },
  {
   "cell_type": "code",
   "execution_count": 72,
   "metadata": {},
   "outputs": [],
   "source": [
    "grid_land_overlap_centroids.to_file(\n",
    "    output_dir / \"fji_0.1_degree_grid_centroids_land_overlap.gpkg\",\n",
    "    driver=\"GPKG\",\n",
    ")"
   ]
  },
  {
   "cell_type": "markdown",
   "metadata": {},
   "source": [
    "## Area Computation"
   ]
  },
  {
   "cell_type": "code",
   "execution_count": 73,
   "metadata": {},
   "outputs": [
    {
     "data": {
      "text/plain": [
       "count             86.00000\n",
       "mean     12720816550.47531\n",
       "std      81971902662.11478\n",
       "min          3168453.34234\n",
       "25%         37235009.99980\n",
       "50%        159253287.26439\n",
       "75%        381064933.97584\n",
       "max     734881818096.92651\n",
       "Name: Area, dtype: float64"
      ]
     },
     "execution_count": 73,
     "metadata": {},
     "output_type": "execute_result"
    }
   ],
   "source": [
    "# computing areas\n",
    "adm3_shp_area = adm3_shp.copy()\n",
    "adm3_shp_area = adm3_shp_area.to_crs({\"proj\": \"cea\"})\n",
    "adm3_shp_area[\"Area\"] = adm3_shp_area[\"geometry\"].area\n",
    "adm3_shp_area[\"Area\"].describe()"
   ]
  },
  {
   "cell_type": "code",
   "execution_count": 74,
   "metadata": {},
   "outputs": [],
   "source": [
    "adm3_shp_area.to_csv(input_dir / \"adm3_area.csv\")"
   ]
  },
  {
   "cell_type": "code",
   "execution_count": 75,
   "metadata": {},
   "outputs": [
    {
     "data": {
      "text/plain": [
       "count           4350.00000\n",
       "mean      8599281617.91451\n",
       "std      59381827375.89362\n",
       "min        115043895.02435\n",
       "25%        116623891.14391\n",
       "50%        118034653.66286\n",
       "75%        119274547.69812\n",
       "max     432787837634.30237\n",
       "Name: Area_2, dtype: float64"
      ]
     },
     "execution_count": 75,
     "metadata": {},
     "output_type": "execute_result"
    }
   ],
   "source": [
    "grid_area = grid.copy()\n",
    "grid_area = grid_area.to_crs({\"proj\": \"cea\"})\n",
    "grid_area[\"Area_2\"] = grid_area[\"geometry\"].area\n",
    "grid_area[\"Area_2\"].describe()"
   ]
  },
  {
   "cell_type": "code",
   "execution_count": 76,
   "metadata": {},
   "outputs": [
    {
     "data": {
      "text/plain": [
       "count            660.00000\n",
       "mean      1659924763.48246\n",
       "std      20458864900.18537\n",
       "min             1350.17484\n",
       "25%          2862465.88664\n",
       "50%         13757902.84053\n",
       "75%         44263435.63634\n",
       "max     424395917772.85736\n",
       "Name: Area_3, dtype: float64"
      ]
     },
     "execution_count": 76,
     "metadata": {},
     "output_type": "execute_result"
    }
   ],
   "source": [
    "adm3_grid_intersection_area = adm3_grid_intersection.copy()\n",
    "adm3_grid_intersection_area = adm3_grid_intersection_area.to_crs(\n",
    "    {\"proj\": \"cea\"}\n",
    ")\n",
    "adm3_grid_intersection_area[\"Area_3\"] = adm3_grid_intersection_area[\n",
    "    \"geometry\"\n",
    "].area\n",
    "adm3_grid_intersection_area[\"Area_3\"].describe()"
   ]
  },
  {
   "cell_type": "code",
   "execution_count": 77,
   "metadata": {},
   "outputs": [],
   "source": [
    "# merge\n",
    "fji_adm3_grid_intersections_area = adm3_shp_area.merge(\n",
    "    grid_area.merge(\n",
    "        adm3_grid_intersection_area, on=\"id\", suffixes=(None, \"_3\")\n",
    "    ),\n",
    "    on=\"ADM3_PCODE\",\n",
    "    suffixes=(None, \"_2\"),\n",
    ")\n",
    "\n",
    "fji_adm3_grid_intersections_area.drop(\n",
    "    fji_adm3_grid_intersections_area.filter(regex=\"geometry\").columns,\n",
    "    axis=1,\n",
    "    inplace=True,\n",
    ")"
   ]
  },
  {
   "cell_type": "code",
   "execution_count": 78,
   "metadata": {},
   "outputs": [],
   "source": [
    "fji_adm3_grid_intersections_area.to_csv(\n",
    "    input_dir / \"fji_adm3_grid_intersections_area.csv\"\n",
    ")"
   ]
  },
  {
   "cell_type": "markdown",
   "metadata": {},
   "source": [
    "## Building Count"
   ]
  },
  {
   "cell_type": "markdown",
   "metadata": {},
   "source": [
    "### Assigning Buildings to Grids"
   ]
  },
  {
   "cell_type": "code",
   "execution_count": 79,
   "metadata": {},
   "outputs": [],
   "source": [
    "fji_bld_centroids[\"random_id\"] = fji_bld_centroids.reset_index().index + 1"
   ]
  },
  {
   "cell_type": "code",
   "execution_count": 84,
   "metadata": {},
   "outputs": [],
   "source": [
    "fji_bld_centroids = fji_bld_centroids.to_crs(FJI_CRS)\n",
    "fji_bld_centroid_grid_count = (\n",
    "    grid_land_overlap.sjoin(fji_bld_centroids, how=\"left\")\n",
    "    .groupby([\"id\", \"Centroid\"])\n",
    "    .count()\n",
    "    .rename(columns={\"random_id\": \"numbuildings\"})\n",
    "    .reset_index()[[\"id\", \"Centroid\", \"numbuildings\"]]\n",
    ")"
   ]
  },
  {
   "cell_type": "code",
   "execution_count": 86,
   "metadata": {},
   "outputs": [],
   "source": [
    "fji_bld_centroid_grid_count.to_csv(\n",
    "    input_dir / \"fji_hotosm_bld_centroid_grid_count.csv\"\n",
    ")"
   ]
  },
  {
   "cell_type": "code",
   "execution_count": 88,
   "metadata": {},
   "outputs": [
    {
     "data": {
      "text/html": [
       "<div>\n",
       "<style scoped>\n",
       "    .dataframe tbody tr th:only-of-type {\n",
       "        vertical-align: middle;\n",
       "    }\n",
       "\n",
       "    .dataframe tbody tr th {\n",
       "        vertical-align: top;\n",
       "    }\n",
       "\n",
       "    .dataframe thead th {\n",
       "        text-align: right;\n",
       "    }\n",
       "</style>\n",
       "<table border=\"1\" class=\"dataframe\">\n",
       "  <thead>\n",
       "    <tr style=\"text-align: right;\">\n",
       "      <th></th>\n",
       "      <th>id</th>\n",
       "      <th>Centroid</th>\n",
       "      <th>numbuildings</th>\n",
       "    </tr>\n",
       "  </thead>\n",
       "  <tbody>\n",
       "    <tr>\n",
       "      <th>0</th>\n",
       "      <td>47</td>\n",
       "      <td>176.94E_-17.09N</td>\n",
       "      <td>63</td>\n",
       "    </tr>\n",
       "    <tr>\n",
       "      <th>1</th>\n",
       "      <td>48</td>\n",
       "      <td>176.94E_-17.19N</td>\n",
       "      <td>150</td>\n",
       "    </tr>\n",
       "    <tr>\n",
       "      <th>2</th>\n",
       "      <td>88</td>\n",
       "      <td>177.04E_-12.49N</td>\n",
       "      <td>0</td>\n",
       "    </tr>\n",
       "    <tr>\n",
       "      <th>3</th>\n",
       "      <td>139</td>\n",
       "      <td>177.04E_-17.59N</td>\n",
       "      <td>355</td>\n",
       "    </tr>\n",
       "    <tr>\n",
       "      <th>4</th>\n",
       "      <td>175</td>\n",
       "      <td>177.14E_-12.49N</td>\n",
       "      <td>0</td>\n",
       "    </tr>\n",
       "    <tr>\n",
       "      <th>5</th>\n",
       "      <td>222</td>\n",
       "      <td>177.14E_-17.19N</td>\n",
       "      <td>65</td>\n",
       "    </tr>\n",
       "    <tr>\n",
       "      <th>6</th>\n",
       "      <td>223</td>\n",
       "      <td>177.14E_-17.29N</td>\n",
       "      <td>701</td>\n",
       "    </tr>\n",
       "    <tr>\n",
       "      <th>7</th>\n",
       "      <td>224</td>\n",
       "      <td>177.14E_-17.39N</td>\n",
       "      <td>109</td>\n",
       "    </tr>\n",
       "  </tbody>\n",
       "</table>\n",
       "</div>"
      ],
      "text/plain": [
       "    id         Centroid  numbuildings\n",
       "0   47  176.94E_-17.09N            63\n",
       "1   48  176.94E_-17.19N           150\n",
       "2   88  177.04E_-12.49N             0\n",
       "3  139  177.04E_-17.59N           355\n",
       "4  175  177.14E_-12.49N             0\n",
       "5  222  177.14E_-17.19N            65\n",
       "6  223  177.14E_-17.29N           701\n",
       "7  224  177.14E_-17.39N           109"
      ]
     },
     "execution_count": 88,
     "metadata": {},
     "output_type": "execute_result"
    }
   ],
   "source": [
    "fji_bld_centroid_grid_count.head(8)"
   ]
  },
  {
   "cell_type": "code",
   "execution_count": 90,
   "metadata": {},
   "outputs": [
    {
     "data": {
      "text/plain": [
       "258906"
      ]
     },
     "execution_count": 90,
     "metadata": {},
     "output_type": "execute_result"
    }
   ],
   "source": [
    "# this number if slightly higher than the municipality count\n",
    "# there are some buildings in the ocean and are in grids\n",
    "# not municipalities which should be fixed.\n",
    "fji_bld_centroid_grid_count[\"numbuildings\"].sum()"
   ]
  },
  {
   "cell_type": "markdown",
   "metadata": {},
   "source": [
    "### Testing new way of counting buildings"
   ]
  },
  {
   "cell_type": "code",
   "execution_count": 91,
   "metadata": {},
   "outputs": [],
   "source": [
    "# assigning buildings to municipalities\n",
    "fji_bld_centroid_municip_count = (\n",
    "    adm3_shp.sjoin(fji_bld_centroids, how=\"left\")\n",
    "    .groupby(\"ADM3_PCODE\")\n",
    "    .count()\n",
    "    .rename(columns={\"random_id\": \"numbuildings\"})\n",
    "    .reset_index()[[\"ADM3_PCODE\", \"numbuildings\"]]\n",
    ")"
   ]
  },
  {
   "cell_type": "code",
   "execution_count": 92,
   "metadata": {},
   "outputs": [
    {
     "data": {
      "text/plain": [
       "254607"
      ]
     },
     "execution_count": 92,
     "metadata": {},
     "output_type": "execute_result"
    }
   ],
   "source": [
    "fji_bld_centroid_municip_count[\"numbuildings\"].sum()"
   ]
  },
  {
   "cell_type": "code",
   "execution_count": 94,
   "metadata": {},
   "outputs": [
    {
     "data": {
      "text/html": [
       "<div>\n",
       "<style scoped>\n",
       "    .dataframe tbody tr th:only-of-type {\n",
       "        vertical-align: middle;\n",
       "    }\n",
       "\n",
       "    .dataframe tbody tr th {\n",
       "        vertical-align: top;\n",
       "    }\n",
       "\n",
       "    .dataframe thead th {\n",
       "        text-align: right;\n",
       "    }\n",
       "</style>\n",
       "<table border=\"1\" class=\"dataframe\">\n",
       "  <thead>\n",
       "    <tr style=\"text-align: right;\">\n",
       "      <th></th>\n",
       "      <th>ADM3_PCODE</th>\n",
       "      <th>numbuildings</th>\n",
       "    </tr>\n",
       "  </thead>\n",
       "  <tbody>\n",
       "    <tr>\n",
       "      <th>78</th>\n",
       "      <td>FJ41204</td>\n",
       "      <td>18980</td>\n",
       "    </tr>\n",
       "  </tbody>\n",
       "</table>\n",
       "</div>"
      ],
      "text/plain": [
       "   ADM3_PCODE  numbuildings\n",
       "78    FJ41204         18980"
      ]
     },
     "execution_count": 94,
     "metadata": {},
     "output_type": "execute_result"
    }
   ],
   "source": [
    "fji_bld_centroid_municip_count[\n",
    "    fji_bld_centroid_municip_count[\"ADM3_PCODE\"] == \"FJ41204\"\n",
    "]"
   ]
  },
  {
   "cell_type": "code",
   "execution_count": 95,
   "metadata": {},
   "outputs": [],
   "source": [
    "fji_bld_centroid_municip_count.to_csv(\n",
    "    input_dir / \"fji_hotosm_bld_centroid_municip_count.csv\"\n",
    ")"
   ]
  },
  {
   "cell_type": "code",
   "execution_count": 96,
   "metadata": {},
   "outputs": [
    {
     "data": {
      "text/plain": [
       "86"
      ]
     },
     "execution_count": 96,
     "metadata": {},
     "output_type": "execute_result"
    }
   ],
   "source": [
    "fji_bld_centroid_municip_count[\"numbuildings\"].sum()\n",
    "len(fji_bld_centroid_municip_count[\"ADM3_PCODE\"].unique())"
   ]
  },
  {
   "cell_type": "code",
   "execution_count": 97,
   "metadata": {},
   "outputs": [],
   "source": [
    "# assigning buildings to intersections\n",
    "fji_bld_centroid_municip_intersection_count = (\n",
    "    adm3_grid_intersection.sjoin(fji_bld_centroids, how=\"left\")\n",
    "    .groupby([\"ADM3_PCODE\", \"id\", \"Centroid\"])\n",
    "    .count()\n",
    "    .rename(columns={\"random_id\": \"numbuildings\"})\n",
    "    .reset_index()[[\"ADM3_PCODE\", \"id\", \"Centroid\", \"numbuildings\"]]\n",
    ")"
   ]
  },
  {
   "cell_type": "code",
   "execution_count": 99,
   "metadata": {},
   "outputs": [
    {
     "data": {
      "text/html": [
       "<div>\n",
       "<style scoped>\n",
       "    .dataframe tbody tr th:only-of-type {\n",
       "        vertical-align: middle;\n",
       "    }\n",
       "\n",
       "    .dataframe tbody tr th {\n",
       "        vertical-align: top;\n",
       "    }\n",
       "\n",
       "    .dataframe thead th {\n",
       "        text-align: right;\n",
       "    }\n",
       "</style>\n",
       "<table border=\"1\" class=\"dataframe\">\n",
       "  <thead>\n",
       "    <tr style=\"text-align: right;\">\n",
       "      <th></th>\n",
       "      <th>ADM3_PCODE</th>\n",
       "      <th>id</th>\n",
       "      <th>Centroid</th>\n",
       "      <th>numbuildings</th>\n",
       "    </tr>\n",
       "  </thead>\n",
       "  <tbody>\n",
       "    <tr>\n",
       "      <th>589</th>\n",
       "      <td>FJ41204</td>\n",
       "      <td>1188</td>\n",
       "      <td>178.24E_-18.09N</td>\n",
       "      <td>53</td>\n",
       "    </tr>\n",
       "    <tr>\n",
       "      <th>590</th>\n",
       "      <td>FJ41204</td>\n",
       "      <td>1189</td>\n",
       "      <td>178.24E_-18.19N</td>\n",
       "      <td>22</td>\n",
       "    </tr>\n",
       "    <tr>\n",
       "      <th>591</th>\n",
       "      <td>FJ41204</td>\n",
       "      <td>1274</td>\n",
       "      <td>178.34E_-17.99N</td>\n",
       "      <td>0</td>\n",
       "    </tr>\n",
       "    <tr>\n",
       "      <th>592</th>\n",
       "      <td>FJ41204</td>\n",
       "      <td>1275</td>\n",
       "      <td>178.34E_-18.09N</td>\n",
       "      <td>1757</td>\n",
       "    </tr>\n",
       "    <tr>\n",
       "      <th>593</th>\n",
       "      <td>FJ41204</td>\n",
       "      <td>1276</td>\n",
       "      <td>178.34E_-18.19N</td>\n",
       "      <td>21</td>\n",
       "    </tr>\n",
       "    <tr>\n",
       "      <th>594</th>\n",
       "      <td>FJ41204</td>\n",
       "      <td>1361</td>\n",
       "      <td>178.44E_-17.99N</td>\n",
       "      <td>0</td>\n",
       "    </tr>\n",
       "    <tr>\n",
       "      <th>595</th>\n",
       "      <td>FJ41204</td>\n",
       "      <td>1362</td>\n",
       "      <td>178.44E_-18.09N</td>\n",
       "      <td>14214</td>\n",
       "    </tr>\n",
       "    <tr>\n",
       "      <th>596</th>\n",
       "      <td>FJ41204</td>\n",
       "      <td>1363</td>\n",
       "      <td>178.44E_-18.19N</td>\n",
       "      <td>2913</td>\n",
       "    </tr>\n",
       "  </tbody>\n",
       "</table>\n",
       "</div>"
      ],
      "text/plain": [
       "    ADM3_PCODE    id         Centroid  numbuildings\n",
       "589    FJ41204  1188  178.24E_-18.09N            53\n",
       "590    FJ41204  1189  178.24E_-18.19N            22\n",
       "591    FJ41204  1274  178.34E_-17.99N             0\n",
       "592    FJ41204  1275  178.34E_-18.09N          1757\n",
       "593    FJ41204  1276  178.34E_-18.19N            21\n",
       "594    FJ41204  1361  178.44E_-17.99N             0\n",
       "595    FJ41204  1362  178.44E_-18.09N         14214\n",
       "596    FJ41204  1363  178.44E_-18.19N          2913"
      ]
     },
     "execution_count": 99,
     "metadata": {},
     "output_type": "execute_result"
    }
   ],
   "source": [
    "fji_bld_centroid_municip_intersection_count[\n",
    "    fji_bld_centroid_municip_intersection_count[\"ADM3_PCODE\"] == \"FJ41204\"\n",
    "]"
   ]
  },
  {
   "cell_type": "code",
   "execution_count": 100,
   "metadata": {},
   "outputs": [],
   "source": [
    "fji_bld_centroid_municip_intersection_count.to_csv(\n",
    "    input_dir / \"fji_hotosm_bld_centroid_municip_intersection_count.csv\"\n",
    ")"
   ]
  },
  {
   "cell_type": "code",
   "execution_count": 101,
   "metadata": {},
   "outputs": [
    {
     "data": {
      "text/plain": [
       "86"
      ]
     },
     "execution_count": 101,
     "metadata": {},
     "output_type": "execute_result"
    }
   ],
   "source": [
    "fji_bld_centroid_municip_intersection_count.shape\n",
    "len(fji_bld_centroid_municip_intersection_count[\"ADM3_PCODE\"].unique())"
   ]
  },
  {
   "cell_type": "code",
   "execution_count": 102,
   "metadata": {},
   "outputs": [
    {
     "data": {
      "text/plain": [
       "254607"
      ]
     },
     "execution_count": 102,
     "metadata": {},
     "output_type": "execute_result"
    }
   ],
   "source": [
    "fji_bld_centroid_municip_intersection_count[\"numbuildings\"].sum()"
   ]
  },
  {
   "cell_type": "code",
   "execution_count": 104,
   "metadata": {},
   "outputs": [],
   "source": [
    "fji_bld_weight_matrix = fji_bld_centroid_municip_count.merge(\n",
    "    fji_bld_centroid_municip_intersection_count,\n",
    "    on=\"ADM3_PCODE\",\n",
    "    suffixes=(None, \"_y\"),\n",
    ")\n",
    "fji_bld_weight_matrix[\"weight\"] = np.where(\n",
    "    fji_bld_weight_matrix[\"numbuildings_y\"] == 0,\n",
    "    0,\n",
    "    fji_bld_weight_matrix[\"numbuildings_y\"]\n",
    "    / fji_bld_weight_matrix[\"numbuildings\"],\n",
    ")"
   ]
  },
  {
   "cell_type": "code",
   "execution_count": 105,
   "metadata": {},
   "outputs": [
    {
     "data": {
      "text/plain": [
       "count   660.00000\n",
       "mean      0.11667\n",
       "std       0.18483\n",
       "min       0.00000\n",
       "25%       0.00040\n",
       "50%       0.03470\n",
       "75%       0.15340\n",
       "max       1.00000\n",
       "Name: weight, dtype: float64"
      ]
     },
     "execution_count": 105,
     "metadata": {},
     "output_type": "execute_result"
    }
   ],
   "source": [
    "fji_bld_weight_matrix[\"weight\"].describe()"
   ]
  },
  {
   "cell_type": "code",
   "execution_count": 106,
   "metadata": {},
   "outputs": [],
   "source": [
    "fji_bld_weight_matrix[[\"ADM3_PCODE\", \"id\", \"Centroid\", \"weight\"]].to_csv(\n",
    "    input_dir / \"fji_bld_weight_matrix.csv\"\n",
    ")"
   ]
  },
  {
   "cell_type": "code",
   "execution_count": null,
   "metadata": {},
   "outputs": [],
   "source": []
  }
 ],
 "metadata": {
  "kernelspec": {
   "display_name": "GlobalTropicalCycloneModel",
   "language": "python",
   "name": "globaltropicalcyclonemodel"
  },
  "language_info": {
   "codemirror_mode": {
    "name": "ipython",
    "version": 3
   },
   "file_extension": ".py",
   "mimetype": "text/x-python",
   "name": "python",
   "nbconvert_exporter": "python",
   "pygments_lexer": "ipython3",
   "version": "3.11.4"
  },
  "vscode": {
   "interpreter": {
    "hash": "d0bf5227c718a54401bc80004b44f7ad33fb80a867a635817764b403a4b4c0f1"
   }
  }
 },
 "nbformat": 4,
 "nbformat_minor": 4
}
