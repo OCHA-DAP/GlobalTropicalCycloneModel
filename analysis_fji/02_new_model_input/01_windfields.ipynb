{
 "cells": [
  {
   "cell_type": "markdown",
   "id": "71304b86",
   "metadata": {},
   "source": [
    "# Windfields\n",
    "\n",
    "This notebook is for downloading typhoon tracks from\n",
    "IBTrACS and generating the windfields."
   ]
  },
  {
   "cell_type": "code",
   "execution_count": 3,
   "id": "0b352951",
   "metadata": {
    "scrolled": true
   },
   "outputs": [
    {
     "data": {
      "text/html": [
       "\n",
       "                <script type=\"application/javascript\" id=\"jupyter_black\">\n",
       "                (function() {\n",
       "                    if (window.IPython === undefined) {\n",
       "                        return\n",
       "                    }\n",
       "                    var msg = \"WARNING: it looks like you might have loaded \" +\n",
       "                        \"jupyter_black in a non-lab notebook with \" +\n",
       "                        \"`is_lab=True`. Please double check, and if \" +\n",
       "                        \"loading with `%load_ext` please review the README!\"\n",
       "                    console.log(msg)\n",
       "                    alert(msg)\n",
       "                })()\n",
       "                </script>\n",
       "                "
      ],
      "text/plain": [
       "<IPython.core.display.HTML object>"
      ]
     },
     "metadata": {},
     "output_type": "display_data"
    }
   ],
   "source": [
    "%load_ext jupyter_black\n",
    "%load_ext autoreload\n",
    "%autoreload 2"
   ]
  },
  {
   "cell_type": "code",
   "execution_count": 4,
   "id": "e971ee85",
   "metadata": {},
   "outputs": [
    {
     "name": "stdout",
     "output_type": "stream",
     "text": [
      "Unexpected exception formatting exception. Falling back to standard exception\n"
     ]
    },
    {
     "name": "stderr",
     "output_type": "stream",
     "text": [
      "Traceback (most recent call last):\n",
      "  File \"/Users/tdowning/.pyenv/versions/GlobalTropicalCycloneModel/lib/python3.11/site-packages/IPython/core/interactiveshell.py\", line 3508, in run_code\n",
      "    True : an error occurred.\n",
      "                ^^^^^^^^^^^^^^\n",
      "  File \"/var/folders/66/764yc5p92nvdc_nm3xmy5rn40000gn/T/ipykernel_13168/1807842795.py\", line 4, in <module>\n",
      "    from climada.hazard import Centroids, TCTracks, TropCyclone\n",
      "ModuleNotFoundError: No module named 'climada'\n",
      "\n",
      "During handling of the above exception, another exception occurred:\n",
      "\n",
      "Traceback (most recent call last):\n",
      "  File \"/Users/tdowning/.pyenv/versions/GlobalTropicalCycloneModel/lib/python3.11/site-packages/pygments/styles/__init__.py\", line 89, in get_style_by_name\n",
      "    try:\n",
      "         \n",
      "ModuleNotFoundError: No module named 'pygments.styles.default'\n",
      "\n",
      "During handling of the above exception, another exception occurred:\n",
      "\n",
      "Traceback (most recent call last):\n",
      "  File \"/Users/tdowning/.pyenv/versions/GlobalTropicalCycloneModel/lib/python3.11/site-packages/IPython/core/interactiveshell.py\", line 2105, in showtraceback\n",
      "    val, BaseExceptionGroup\n",
      "          ^^^^^^^^^^^^^^^^^\n",
      "  File \"/Users/tdowning/.pyenv/versions/GlobalTropicalCycloneModel/lib/python3.11/site-packages/IPython/core/ultratb.py\", line 1428, in structured_traceback\n",
      "    if etype is None:\n",
      "           ^^^^^^^^^^\n",
      "  File \"/Users/tdowning/.pyenv/versions/GlobalTropicalCycloneModel/lib/python3.11/site-packages/IPython/core/ultratb.py\", line 1319, in structured_traceback\n",
      "    self.set_mode(mode)\n",
      "               ^^^^^^^^\n",
      "  File \"/Users/tdowning/.pyenv/versions/GlobalTropicalCycloneModel/lib/python3.11/site-packages/IPython/core/ultratb.py\", line 1172, in structured_traceback\n",
      "    \"\"\"Return a nice text document describing the traceback.\"\"\"\n",
      "                          ^^^^^^^^^^^^^^^^^^^^^^^^^^^^^^^^^^^^^\n",
      "  File \"/Users/tdowning/.pyenv/versions/GlobalTropicalCycloneModel/lib/python3.11/site-packages/IPython/core/ultratb.py\", line 1062, in format_exception_as_a_whole\n",
      "    records = (\n",
      "        ^^^^^^^^\n",
      "  File \"/Users/tdowning/.pyenv/versions/GlobalTropicalCycloneModel/lib/python3.11/site-packages/IPython/core/ultratb.py\", line 1113, in get_records\n",
      "    if self.has_colors:\n",
      "                ^^^^^^^^\n",
      "  File \"/Users/tdowning/.pyenv/versions/GlobalTropicalCycloneModel/lib/python3.11/site-packages/pygments/styles/__init__.py\", line 91, in get_style_by_name\n",
      "    except ImportError:\n",
      "        ^^^^^^^^^^^^^^^\n",
      "pygments.util.ClassNotFound: Could not find style module 'default', though it should be builtin.\n"
     ]
    }
   ],
   "source": [
    "from pathlib import Path\n",
    "import os\n",
    "\n",
    "from climada.hazard import Centroids, TCTracks, TropCyclone\n",
    "from shapely.geometry import LineString\n",
    "from shapely.ops import nearest_points\n",
    "import geopandas as gpd\n",
    "import numpy as np\n",
    "import pandas as pd\n",
    "import xarray as xr\n",
    "\n",
    "import utils"
   ]
  },
  {
   "cell_type": "code",
   "execution_count": 4,
   "id": "c0b14288",
   "metadata": {},
   "outputs": [],
   "source": [
    "DEG_TO_KM = 111.1  # Convert 1 degree to km\n",
    "FJI_CRS = \"+proj=longlat +ellps=WGS84 +lon_wrap=180 +datum=WGS84 +no_defs\"\n",
    "input_dir = (\n",
    "    Path(os.getenv(\"STORM_DATA_DIR\")) / \"analysis_fji/02_new_model_input\"\n",
    ")\n",
    "\n",
    "# set IDs for some key storms\n",
    "impact_tc_ids = {\n",
    "    # housing damage from NDMO\n",
    "    \"winston2016\": \"2016041S14170\",\n",
    "    \"yasa2020\": \"2020346S13168\",\n",
    "    \"harold2020\": \"2020092S09155\",\n",
    "    \"sarai2019\": \"2019359S08175\",\n",
    "    \"tino2020\": \"2020015S12170\",\n",
    "    \"ana2021\": \"2021029S16171\",\n",
    "    # housing damage from ReliefWeb\n",
    "    \"evan2012\": \"2012346S14180\",\n",
    "    \"gita2018\": \"2018038S15172\",\n",
    "    \"tomas2010\": \"2010069S12188\",\n",
    "}"
   ]
  },
  {
   "cell_type": "code",
   "execution_count": 5,
   "id": "def4e477-bf60-4a79-9753-e4e8879c199b",
   "metadata": {},
   "outputs": [
    {
     "name": "stdout",
     "output_type": "stream",
     "text": [
      "['2016041S14170', '2020346S13168', '2020092S09155', '2019359S08175', '2020015S12170', '2021029S16171', '2012346S14180', '2018038S15172', '2010069S12188']\n"
     ]
    }
   ],
   "source": [
    "print(list(impact_tc_ids.values()))"
   ]
  },
  {
   "cell_type": "markdown",
   "id": "b2b19fc5",
   "metadata": {},
   "source": [
    "## Get typhoon data\n",
    "\n",
    "Typhoon IDs from IBTrACS are taken from\n",
    "[here](https://ncics.org/ibtracs/index.php?name=browse-name)"
   ]
  },
  {
   "cell_type": "code",
   "execution_count": 6,
   "id": "3103b6e4-2f45-423d-b044-bf0939323943",
   "metadata": {},
   "outputs": [
    {
     "name": "stderr",
     "output_type": "stream",
     "text": [
      "/Users/tdowning/.pyenv/versions/GlobalTropicalCycloneModel/lib/python3.11/site-packages/xarray/coding/times.py:254: RuntimeWarning: invalid value encountered in cast\n",
      "  flat_num_dates_ns_int = (flat_num_dates * _NS_PER_TIME_DELTA[delta]).astype(\n",
      "/Users/tdowning/.pyenv/versions/GlobalTropicalCycloneModel/lib/python3.11/site-packages/xarray/coding/times.py:254: RuntimeWarning: invalid value encountered in cast\n",
      "  flat_num_dates_ns_int = (flat_num_dates * _NS_PER_TIME_DELTA[delta]).astype(\n"
     ]
    }
   ],
   "source": [
    "# only take tracks for which we have housing impact data\n",
    "sel_ibtracs = TCTracks.from_ibtracs_netcdf(\n",
    "    storm_id=list(impact_tc_ids.values())\n",
    ")"
   ]
  },
  {
   "cell_type": "code",
   "execution_count": 7,
   "id": "dd044e76",
   "metadata": {},
   "outputs": [],
   "source": [
    "# Download all tracks from the south pacific basin\n",
    "# not specifying provider to get more tracks\n",
    "# sel_ibtracs = TCTracks.from_ibtracs_netcdf(\n",
    "#     year_range=(1900, 2023),\n",
    "#     basin=\"SP\",\n",
    "# )"
   ]
  },
  {
   "cell_type": "code",
   "execution_count": 8,
   "id": "76f1491b-a909-47f8-9a51-269ba0275bd8",
   "metadata": {},
   "outputs": [],
   "source": [
    "# Load impact data\n",
    "df_impact = pd.read_csv(\n",
    "    input_dir\n",
    "    / \"02_housing_damage/input/fji_impact_data/processed_house_impact.csv\"\n",
    ")"
   ]
  },
  {
   "cell_type": "code",
   "execution_count": 9,
   "id": "7b173d60-9fd9-47b0-8525-8035102e37bc",
   "metadata": {},
   "outputs": [],
   "source": [
    "df_tracks = pd.DataFrame()\n",
    "typhoon_ids = []\n",
    "typhoons_df = pd.DataFrame()\n",
    "\n",
    "# check for typhoon in impact data\n",
    "# append to typhoons_df (instead of reading external file)\n",
    "for track in sel_ibtracs.data:\n",
    "    start_date = track.time.min()\n",
    "    eff_date = start_date - pd.Timedelta(days=305)\n",
    "    season = f\"{eff_date.dt.year.values}/{eff_date.dt.year.values + 1}\"\n",
    "    name_season = track.name.capitalize() + \" \" + season\n",
    "    # print(name_season)\n",
    "    if name_season in df_impact[\"Name Season\"].values:\n",
    "        typhoon_ids.append(track.sid)\n",
    "    track.attrs[\n",
    "        \"season\"\n",
    "    ] = f\"{eff_date.dt.year.values}/{eff_date.dt.year.values + 1}\"\n",
    "    df_add = pd.DataFrame(\n",
    "        {\n",
    "            \"typhoon_id\": track.sid,\n",
    "            \"typhoon_name\": track.name.capitalize(),\n",
    "            \"typhoon_year\": start_date.dt.year.values,\n",
    "        },\n",
    "        index=[0],\n",
    "    )\n",
    "    typhoons_df = pd.concat([typhoons_df, df_add], ignore_index=True)"
   ]
  },
  {
   "cell_type": "code",
   "execution_count": 10,
   "id": "7acda81c-7cb2-4767-b0e9-1eb13d231e2a",
   "metadata": {},
   "outputs": [
    {
     "name": "stdout",
     "output_type": "stream",
     "text": [
      "2010\n"
     ]
    }
   ],
   "source": [
    "print(sel_ibtracs.data[0].time.min().dt.year.values)"
   ]
  },
  {
   "cell_type": "code",
   "execution_count": 11,
   "id": "219b53fa",
   "metadata": {},
   "outputs": [],
   "source": [
    "# Get_track returns the first matching track based\n",
    "# on the track ID. Interpolate from 3 hours to\n",
    "# 30 minute intervals to create a smooth intensity field.\n",
    "tc_tracks = TCTracks()\n",
    "\n",
    "\n",
    "for typhoon_id in list(impact_tc_ids.values()):\n",
    "    tc_track = sel_ibtracs.get_track(typhoon_id)\n",
    "    tc_track = tc_track.interp(\n",
    "        time=pd.date_range(\n",
    "            tc_track.time.values[0], tc_track.time.values[-1], freq=\"30T\"\n",
    "        )\n",
    "    )\n",
    "tc_tracks.append(tc_track)"
   ]
  },
  {
   "cell_type": "code",
   "execution_count": null,
   "id": "b1e5da16",
   "metadata": {},
   "outputs": [],
   "source": [
    "# Plot the tracks\n",
    "# Takes a while, especially after the interpolation.\n",
    "# may crash kernel\n",
    "tc_tracks.plot()"
   ]
  },
  {
   "cell_type": "markdown",
   "id": "a73dd505",
   "metadata": {},
   "source": [
    "## Construct the windfield\n",
    "\n",
    "The typhoon tracks will be used to construct the wind field.\n",
    "The wind field grid will be set using a geopackage file that is\n",
    "used for all other grid-based data."
   ]
  },
  {
   "cell_type": "code",
   "execution_count": 12,
   "id": "80ec910c",
   "metadata": {},
   "outputs": [
    {
     "data": {
      "text/html": [
       "<div>\n",
       "<style scoped>\n",
       "    .dataframe tbody tr th:only-of-type {\n",
       "        vertical-align: middle;\n",
       "    }\n",
       "\n",
       "    .dataframe tbody tr th {\n",
       "        vertical-align: top;\n",
       "    }\n",
       "\n",
       "    .dataframe thead th {\n",
       "        text-align: right;\n",
       "    }\n",
       "</style>\n",
       "<table border=\"1\" class=\"dataframe\">\n",
       "  <thead>\n",
       "    <tr style=\"text-align: right;\">\n",
       "      <th></th>\n",
       "      <th>id</th>\n",
       "      <th>Longitude</th>\n",
       "      <th>Latitude</th>\n",
       "      <th>Centroid</th>\n",
       "      <th>geometry</th>\n",
       "    </tr>\n",
       "  </thead>\n",
       "  <tbody>\n",
       "    <tr>\n",
       "      <th>0</th>\n",
       "      <td>47</td>\n",
       "      <td>176.93806</td>\n",
       "      <td>-17.091454</td>\n",
       "      <td>176.94E_-17.09N</td>\n",
       "      <td>POINT (176.93806 -17.09145)</td>\n",
       "    </tr>\n",
       "    <tr>\n",
       "      <th>1</th>\n",
       "      <td>48</td>\n",
       "      <td>176.93806</td>\n",
       "      <td>-17.191454</td>\n",
       "      <td>176.94E_-17.19N</td>\n",
       "      <td>POINT (176.93806 -17.19145)</td>\n",
       "    </tr>\n",
       "    <tr>\n",
       "      <th>2</th>\n",
       "      <td>88</td>\n",
       "      <td>177.03806</td>\n",
       "      <td>-12.491454</td>\n",
       "      <td>177.04E_-12.49N</td>\n",
       "      <td>POINT (177.03806 -12.49145)</td>\n",
       "    </tr>\n",
       "    <tr>\n",
       "      <th>3</th>\n",
       "      <td>139</td>\n",
       "      <td>177.03806</td>\n",
       "      <td>-17.591454</td>\n",
       "      <td>177.04E_-17.59N</td>\n",
       "      <td>POINT (177.03806 -17.59145)</td>\n",
       "    </tr>\n",
       "    <tr>\n",
       "      <th>4</th>\n",
       "      <td>175</td>\n",
       "      <td>177.13806</td>\n",
       "      <td>-12.491454</td>\n",
       "      <td>177.14E_-12.49N</td>\n",
       "      <td>POINT (177.13806 -12.49145)</td>\n",
       "    </tr>\n",
       "    <tr>\n",
       "      <th>...</th>\n",
       "      <td>...</td>\n",
       "      <td>...</td>\n",
       "      <td>...</td>\n",
       "      <td>...</td>\n",
       "      <td>...</td>\n",
       "    </tr>\n",
       "    <tr>\n",
       "      <th>375</th>\n",
       "      <td>4069</td>\n",
       "      <td>181.53806</td>\n",
       "      <td>-19.091454</td>\n",
       "      <td>181.54E_-19.09N</td>\n",
       "      <td>POINT (181.53806 -19.09145)</td>\n",
       "    </tr>\n",
       "    <tr>\n",
       "      <th>376</th>\n",
       "      <td>4070</td>\n",
       "      <td>181.53806</td>\n",
       "      <td>-19.191454</td>\n",
       "      <td>181.54E_-19.19N</td>\n",
       "      <td>POINT (181.53806 -19.19145)</td>\n",
       "    </tr>\n",
       "    <tr>\n",
       "      <th>377</th>\n",
       "      <td>4156</td>\n",
       "      <td>181.63806</td>\n",
       "      <td>-19.091454</td>\n",
       "      <td>181.64E_-19.09N</td>\n",
       "      <td>POINT (181.63806 -19.09145)</td>\n",
       "    </tr>\n",
       "    <tr>\n",
       "      <th>378</th>\n",
       "      <td>4157</td>\n",
       "      <td>181.63806</td>\n",
       "      <td>-19.191454</td>\n",
       "      <td>181.64E_-19.19N</td>\n",
       "      <td>POINT (181.63806 -19.19145)</td>\n",
       "    </tr>\n",
       "    <tr>\n",
       "      <th>379</th>\n",
       "      <td>4250</td>\n",
       "      <td>181.73806</td>\n",
       "      <td>-19.791454</td>\n",
       "      <td>181.74E_-19.79N</td>\n",
       "      <td>POINT (181.73806 -19.79145)</td>\n",
       "    </tr>\n",
       "  </tbody>\n",
       "</table>\n",
       "<p>380 rows × 5 columns</p>\n",
       "</div>"
      ],
      "text/plain": [
       "       id  Longitude   Latitude         Centroid                     geometry\n",
       "0      47  176.93806 -17.091454  176.94E_-17.09N  POINT (176.93806 -17.09145)\n",
       "1      48  176.93806 -17.191454  176.94E_-17.19N  POINT (176.93806 -17.19145)\n",
       "2      88  177.03806 -12.491454  177.04E_-12.49N  POINT (177.03806 -12.49145)\n",
       "3     139  177.03806 -17.591454  177.04E_-17.59N  POINT (177.03806 -17.59145)\n",
       "4     175  177.13806 -12.491454  177.14E_-12.49N  POINT (177.13806 -12.49145)\n",
       "..    ...        ...        ...              ...                          ...\n",
       "375  4069  181.53806 -19.091454  181.54E_-19.09N  POINT (181.53806 -19.09145)\n",
       "376  4070  181.53806 -19.191454  181.54E_-19.19N  POINT (181.53806 -19.19145)\n",
       "377  4156  181.63806 -19.091454  181.64E_-19.09N  POINT (181.63806 -19.09145)\n",
       "378  4157  181.63806 -19.191454  181.64E_-19.19N  POINT (181.63806 -19.19145)\n",
       "379  4250  181.73806 -19.791454  181.74E_-19.79N  POINT (181.73806 -19.79145)\n",
       "\n",
       "[380 rows x 5 columns]"
      ]
     },
     "execution_count": 12,
     "metadata": {},
     "output_type": "execute_result"
    }
   ],
   "source": [
    "# input_dir = (Path(os.getenv(\"STORM_DATA_DIR\"))/ \"analysis/02_new_model_input/input\")\n",
    "# filepath = input_dir / \"phl_0.1_degree_grid_centroids.gpkg\"\n",
    "# gdf = gpd.read_file(filepath)\n",
    "\n",
    "filepath = (\n",
    "    input_dir\n",
    "    / \"02_housing_damage/output/fji_0.1_degree_grid_centroids_land_overlap.gpkg\"\n",
    ")\n",
    "gdf = gpd.read_file(filepath)\n",
    "gdf[\"id\"] = gdf[\"id\"].astype(int)\n",
    "\n",
    "gdf.to_crs(utils.FJI_CRS)"
   ]
  },
  {
   "cell_type": "code",
   "execution_count": null,
   "id": "7471ff8e",
   "metadata": {},
   "outputs": [],
   "source": [
    "# multipolygon data to centroids\n",
    "\n",
    "cent = Centroids.from_geodataframe(gdf.to_crs(4326))\n",
    "\n",
    "cent.check()\n",
    "cent.plot(figsize=(5, 5))"
   ]
  },
  {
   "cell_type": "code",
   "execution_count": 15,
   "id": "5b4af0bd-89bf-48f6-a8ef-f48c07993e90",
   "metadata": {},
   "outputs": [
    {
     "data": {
      "text/plain": [
       "<Geographic 2D CRS: EPSG:4326>\n",
       "Name: WGS 84\n",
       "Axis Info [ellipsoidal]:\n",
       "- Lat[north]: Geodetic latitude (degree)\n",
       "- Lon[east]: Geodetic longitude (degree)\n",
       "Area of Use:\n",
       "- name: World.\n",
       "- bounds: (-180.0, -90.0, 180.0, 90.0)\n",
       "Datum: World Geodetic System 1984 ensemble\n",
       "- Ellipsoid: WGS 84\n",
       "- Prime Meridian: Greenwich"
      ]
     },
     "execution_count": 15,
     "metadata": {},
     "output_type": "execute_result"
    }
   ],
   "source": [
    "cent.crs"
   ]
  },
  {
   "cell_type": "code",
   "execution_count": 1,
   "id": "38aa4fce",
   "metadata": {},
   "outputs": [
    {
     "ename": "NameError",
     "evalue": "name 'TropCyclone' is not defined",
     "output_type": "error",
     "traceback": [
      "\u001b[0;31m---------------------------------------------------------------------------\u001b[0m",
      "\u001b[0;31mNameError\u001b[0m                                 Traceback (most recent call last)",
      "Cell \u001b[0;32mIn[1], line 3\u001b[0m\n\u001b[1;32m      1\u001b[0m \u001b[38;5;66;03m# Consider wind speeds lower than 17.5, which is the\u001b[39;00m\n\u001b[1;32m      2\u001b[0m \u001b[38;5;66;03m# division between a TD and a TS.\u001b[39;00m\n\u001b[0;32m----> 3\u001b[0m tc \u001b[38;5;241m=\u001b[39m \u001b[43mTropCyclone\u001b[49m\u001b[38;5;241m.\u001b[39mfrom_tracks(\n\u001b[1;32m      4\u001b[0m     tc_tracks, centroids\u001b[38;5;241m=\u001b[39mcent, store_windfields\u001b[38;5;241m=\u001b[39m\u001b[38;5;28;01mTrue\u001b[39;00m, intensity_thres\u001b[38;5;241m=\u001b[39m\u001b[38;5;241m0\u001b[39m\n\u001b[1;32m      5\u001b[0m )\n",
      "\u001b[0;31mNameError\u001b[0m: name 'TropCyclone' is not defined"
     ]
    }
   ],
   "source": [
    "# Consider wind speeds lower than 17.5, which is the\n",
    "# division between a TD and a TS.\n",
    "tc = TropCyclone.from_tracks(\n",
    "    tc_tracks, centroids=cent, store_windfields=True, intensity_thres=0\n",
    ")"
   ]
  },
  {
   "cell_type": "code",
   "execution_count": 55,
   "id": "b3771fdd-f949-4b06-95c7-96f869792d48",
   "metadata": {},
   "outputs": [
    {
     "data": {
      "text/plain": [
       "<GeoAxes: title={'center': 'Event ID 75: 2020346S13168'}>"
      ]
     },
     "execution_count": 55,
     "metadata": {},
     "output_type": "execute_result"
    },
    {
     "data": {
      "image/png": "[encoded data removed]",
      "text/plain": [
       "<Figure size 900x1300 with 2 Axes>"
      ]
     },
     "metadata": {},
     "output_type": "display_data"
    }
   ],
   "source": [
    "tc.plot_fraction(YASA_ID)"
   ]
  },
  {
   "cell_type": "code",
   "execution_count": 130,
   "id": "4de4c3b7",
   "metadata": {},
   "outputs": [
    {
     "data": {
      "text/plain": [
       "<GeoAxes: title={'center': 'Event ID 2: 2020346S13168'}>"
      ]
     },
     "execution_count": 130,
     "metadata": {},
     "output_type": "execute_result"
    },
    {
     "data": {
      "image/png": "[encoded data removed]",
      "text/plain": [
       "<Figure size 900x1300 with 2 Axes>"
      ]
     },
     "metadata": {},
     "output_type": "display_data"
    }
   ],
   "source": [
    "# Let's look at a specific typhoon as an example.\n",
    "# It looks weird but I think it's just a\n",
    "# projection issue, as the parts on land look fine\n",
    "\n",
    "tc.plot_intensity(YASA_ID)"
   ]
  },
  {
   "cell_type": "markdown",
   "id": "43f4462a",
   "metadata": {},
   "source": [
    "## Save the windfields\n",
    "\n",
    "Need to extract the windfield per typhoon, and\n",
    "save it in a dataframe along with the grid points"
   ]
  },
  {
   "cell_type": "code",
   "execution_count": 180,
   "id": "a13a5462",
   "metadata": {},
   "outputs": [
    {
     "data": {
      "text/html": [
       "<div>\n",
       "<style scoped>\n",
       "    .dataframe tbody tr th:only-of-type {\n",
       "        vertical-align: middle;\n",
       "    }\n",
       "\n",
       "    .dataframe tbody tr th {\n",
       "        vertical-align: top;\n",
       "    }\n",
       "\n",
       "    .dataframe thead th {\n",
       "        text-align: right;\n",
       "    }\n",
       "</style>\n",
       "<table border=\"1\" class=\"dataframe\">\n",
       "  <thead>\n",
       "    <tr style=\"text-align: right;\">\n",
       "      <th></th>\n",
       "      <th>typhoon</th>\n",
       "      <th>startdate</th>\n",
       "      <th>enddate</th>\n",
       "      <th>landfalldate</th>\n",
       "      <th>landfall_time</th>\n",
       "    </tr>\n",
       "  </thead>\n",
       "  <tbody>\n",
       "    <tr>\n",
       "      <th>0</th>\n",
       "      <td>bebe1972</td>\n",
       "      <td>19/10/1972</td>\n",
       "      <td>26/10/1972</td>\n",
       "      <td>22/10/1972</td>\n",
       "      <td>20:30:00</td>\n",
       "    </tr>\n",
       "    <tr>\n",
       "      <th>1</th>\n",
       "      <td>bebe1972</td>\n",
       "      <td>27/10/1972</td>\n",
       "      <td>28/10/1972</td>\n",
       "      <td>27/10/1972</td>\n",
       "      <td>00:00:00</td>\n",
       "    </tr>\n",
       "    <tr>\n",
       "      <th>2</th>\n",
       "      <td>juliette1973</td>\n",
       "      <td>03/04/1973</td>\n",
       "      <td>04/04/1973</td>\n",
       "      <td>03/04/1973</td>\n",
       "      <td>12:30:00</td>\n",
       "    </tr>\n",
       "    <tr>\n",
       "      <th>3</th>\n",
       "      <td>juliette1973</td>\n",
       "      <td>02/04/1973</td>\n",
       "      <td>03/04/1973</td>\n",
       "      <td>03/04/1973</td>\n",
       "      <td>00:00:00</td>\n",
       "    </tr>\n",
       "    <tr>\n",
       "      <th>4</th>\n",
       "      <td>juliette1973</td>\n",
       "      <td>05/04/1973</td>\n",
       "      <td>06/04/1973</td>\n",
       "      <td>05/04/1973</td>\n",
       "      <td>00:00:00</td>\n",
       "    </tr>\n",
       "    <tr>\n",
       "      <th>...</th>\n",
       "      <td>...</td>\n",
       "      <td>...</td>\n",
       "      <td>...</td>\n",
       "      <td>...</td>\n",
       "      <td>...</td>\n",
       "    </tr>\n",
       "    <tr>\n",
       "      <th>72</th>\n",
       "      <td>tino2020</td>\n",
       "      <td>16/01/2020</td>\n",
       "      <td>19/01/2020</td>\n",
       "      <td>17/01/2020</td>\n",
       "      <td>05:30:00</td>\n",
       "    </tr>\n",
       "    <tr>\n",
       "      <th>73</th>\n",
       "      <td>harold2020</td>\n",
       "      <td>01/04/2020</td>\n",
       "      <td>10/04/2020</td>\n",
       "      <td>08/04/2020</td>\n",
       "      <td>00:30:00</td>\n",
       "    </tr>\n",
       "    <tr>\n",
       "      <th>74</th>\n",
       "      <td>yasa2020</td>\n",
       "      <td>13/12/2020</td>\n",
       "      <td>20/12/2020</td>\n",
       "      <td>17/12/2020</td>\n",
       "      <td>06:00:00</td>\n",
       "    </tr>\n",
       "    <tr>\n",
       "      <th>75</th>\n",
       "      <td>bina2021</td>\n",
       "      <td>31/01/2021</td>\n",
       "      <td>31/01/2021</td>\n",
       "      <td>31/01/2021</td>\n",
       "      <td>13:30:00</td>\n",
       "    </tr>\n",
       "    <tr>\n",
       "      <th>76</th>\n",
       "      <td>ana2021</td>\n",
       "      <td>29/01/2021</td>\n",
       "      <td>01/02/2021</td>\n",
       "      <td>30/01/2021</td>\n",
       "      <td>10:00:00</td>\n",
       "    </tr>\n",
       "  </tbody>\n",
       "</table>\n",
       "<p>77 rows × 5 columns</p>\n",
       "</div>"
      ],
      "text/plain": [
       "         typhoon   startdate     enddate landfalldate landfall_time\n",
       "0       bebe1972  19/10/1972  26/10/1972   22/10/1972      20:30:00\n",
       "1       bebe1972  27/10/1972  28/10/1972   27/10/1972      00:00:00\n",
       "2   juliette1973  03/04/1973  04/04/1973   03/04/1973      12:30:00\n",
       "3   juliette1973  02/04/1973  03/04/1973   03/04/1973      00:00:00\n",
       "4   juliette1973  05/04/1973  06/04/1973   05/04/1973      00:00:00\n",
       "..           ...         ...         ...          ...           ...\n",
       "72      tino2020  16/01/2020  19/01/2020   17/01/2020      05:30:00\n",
       "73    harold2020  01/04/2020  10/04/2020   08/04/2020      00:30:00\n",
       "74      yasa2020  13/12/2020  20/12/2020   17/12/2020      06:00:00\n",
       "75      bina2021  31/01/2021  31/01/2021   31/01/2021      13:30:00\n",
       "76       ana2021  29/01/2021  01/02/2021   30/01/2021      10:00:00\n",
       "\n",
       "[77 rows x 5 columns]"
      ]
     },
     "execution_count": 180,
     "metadata": {},
     "output_type": "execute_result"
    }
   ],
   "source": [
    "df_windfield = pd.DataFrame()\n",
    "typhoon_metadata = pd.DataFrame()\n",
    "\n",
    "# at this latitude grid spacing is roughly 11.6 km\n",
    "GRID_SPACING = 12\n",
    "\n",
    "for intensity_sparse, event_id in zip(tc.intensity, tc.event_name):\n",
    "    # Get the windfield\n",
    "    windfield = intensity_sparse.toarray().flatten()\n",
    "    npoints = len(windfield)\n",
    "    typhoon_info = typhoons_df[typhoons_df[\"typhoon_id\"] == event_id]\n",
    "    # Get the track distance\n",
    "    tc_track = tc_tracks.get_track(track_name=event_id)\n",
    "    tc_track = tc_track.sortby(\"time\")\n",
    "    # some tracks are defined with negative longitude (i.e. around -180)\n",
    "    # this messes up distance calc, so correct them first here\n",
    "    if tc_track.lon[0] < 0:\n",
    "        tc_track[\"lon\"] += 360\n",
    "    tc_track_line = LineString(gpd.points_from_xy(tc_track.lon, tc_track.lat))\n",
    "    tc_track_points = gpd.points_from_xy(tc_track.lon, tc_track.lat)\n",
    "    tc_track_line = gpd.GeoDataFrame(geometry=[tc_track_line])\n",
    "    # shift tracks into EPSG 3832 to calculate distance\n",
    "    tc_track_line = tc_track_line.set_crs(FJI_CRS).to_crs(3832)\n",
    "    tc_track_distance = (\n",
    "        gdf[\"geometry\"]\n",
    "        .to_crs(3832)\n",
    "        .apply(\n",
    "            lambda point: point.distance(tc_track_line.iloc[0].geometry) / 1000\n",
    "        )\n",
    "    )\n",
    "    name = typhoon_info[\"typhoon_name\"].values[0]\n",
    "    year = typhoon_info[\"typhoon_year\"].values[0]\n",
    "    nameyear = name.lower() + str(year)\n",
    "\n",
    "    # Add to DF\n",
    "    df_to_add = pd.DataFrame(\n",
    "        dict(\n",
    "            typhoon_id=[event_id] * npoints,\n",
    "            typhoon_name=[name] * npoints,\n",
    "            typhoon_year=[year] * npoints,\n",
    "            grid_point_id=gdf[\"id\"],\n",
    "            wind_speed=windfield,\n",
    "            track_distance=tc_track_distance,\n",
    "        )\n",
    "    )\n",
    "    df_windfield = pd.concat([df_windfield, df_to_add], ignore_index=True)\n",
    "\n",
    "    # determine landfall (or closest pass)\n",
    "\n",
    "    tc_track_points = gpd.GeoDataFrame(geometry=tc_track_points)\n",
    "    tc_track_points = tc_track_points.set_crs(FJI_CRS).to_crs(3832)\n",
    "    df_distance = gdf.geometry.to_crs(3832).apply(\n",
    "        lambda point: point.distance(tc_track_points.geometry) / 1000\n",
    "    )\n",
    "    tc_track_points[\"time\"] = tc_track.time\n",
    "    tc_track_points[\"distance_to_land\"] = df_distance.min()\n",
    "\n",
    "    # check to see if cyclone makes landfall (i.e. is within grid spacing)\n",
    "    min_distance = tc_track_points[\"distance_to_land\"].min()\n",
    "    if min_distance < GRID_SPACING:\n",
    "        # if makes landfall, use first date\n",
    "        landfalldatetime = tc_track_points[\n",
    "            tc_track_points[\"distance_to_land\"] < GRID_SPACING\n",
    "        ].iloc[0][\"time\"]\n",
    "    else:\n",
    "        # otherwise, just take minimum distance date\n",
    "        landfalldatetime = tc_track_points[\n",
    "            tc_track_points[\"distance_to_land\"] == min_distance\n",
    "        ].iloc[0][\"time\"]\n",
    "    landfalldate = landfalldatetime.strftime(\"%d/%m/%Y\")\n",
    "    landfalltime = landfalldatetime.strftime(\"%H:%M:%S\")\n",
    "    startdate = tc_track_points[\"time\"].min().strftime(\"%d/%m/%Y\")\n",
    "    enddate = tc_track_points[\"time\"].max().strftime(\"%d/%m/%Y\")\n",
    "\n",
    "    df_add = pd.DataFrame(\n",
    "        {\n",
    "            \"typhoon\": nameyear,\n",
    "            \"startdate\": startdate,\n",
    "            \"enddate\": enddate,\n",
    "            \"landfalldate\": landfalldate,\n",
    "            \"landfall_time\": landfalltime,\n",
    "        },\n",
    "        index=[0],\n",
    "    )\n",
    "\n",
    "    typhoon_metadata = pd.concat([typhoon_metadata, df_add], ignore_index=True)\n",
    "\n",
    "\n",
    "typhoon_metadata"
   ]
  },
  {
   "cell_type": "code",
   "execution_count": 170,
   "id": "84de78f5-c972-4923-a51e-23034b3fb51e",
   "metadata": {},
   "outputs": [
    {
     "data": {
      "text/plain": [
       "typhoon_name  typhoon_id   \n",
       "Arthur        2007021S12183     516.848320\n",
       "Atu           2011048S14171     628.811449\n",
       "Bebe          1972301S25189     997.532489\n",
       "Bina          2021029S14162     254.108633\n",
       "Bob           1977365S09188     936.092718\n",
       "              1978032S09187      18.697833\n",
       "Bola          1988055S10180     144.327153\n",
       "Bune          2011082S17184      13.116910\n",
       "Cyril         1984076S13173     127.776691\n",
       "Dani          1999013S13164    1013.852114\n",
       "Daphne        2012092S16166     458.847131\n",
       "Eric          1985019S23191    1058.744795\n",
       "Eseta         1988352S14166     476.004914\n",
       "Gavin         1985062S15170     331.724867\n",
       "Gita          2018038S15172      24.699450\n",
       "Harry         1989037S16164    1252.235442\n",
       "Hettie        1982024S18166     185.260161\n",
       "Hina          1985070S17175      42.605575\n",
       "Ian           1997105S10168     123.408760\n",
       "Jim           2006025S18147     957.965890\n",
       "Joni          1992338S04173     869.384960\n",
       "Josie         2018089S18172     101.189873\n",
       "Juliette      1973092S15172     163.624599\n",
       "              1973095S22188    1418.323008\n",
       "June          1977017S15150     388.826689\n",
       "Lin           1993029S11178     739.313360\n",
       "Lusi          1997277S04170     202.662896\n",
       "Mona          2019001S10162      47.252722\n",
       "Odette        1985017S15146     538.051291\n",
       "Paula         2001056S11163     122.626993\n",
       "Pola          2019057S13184      79.801445\n",
       "Polly         1993053S12161    1362.113946\n",
       "Rae           1990075S09176      51.790650\n",
       "              1990076S12165     155.817726\n",
       "Susan         1997355S05189     277.114288\n",
       "Tam           2006007S15182      61.697609\n",
       "Tino          2020015S12170      30.691126\n",
       "Tusi          1987015S09187    1033.078879\n",
       "Wilma         2011020S13182     117.131918\n",
       "Zena          2016095S13162      35.929574\n",
       "Name: track_distance, dtype: float64"
      ]
     },
     "metadata": {},
     "output_type": "display_data"
    }
   ],
   "source": [
    "cutoff_distance = 12\n",
    "\n",
    "dfa = df_windfield.groupby([\"typhoon_name\", \"typhoon_id\"])[\n",
    "    \"track_distance\"\n",
    "].min()\n",
    "display(dfa[dfa > cutoff_distance])"
   ]
  },
  {
   "cell_type": "code",
   "execution_count": 52,
   "id": "e260be4e-eb08-4260-b368-cf79f9e3f57d",
   "metadata": {},
   "outputs": [
    {
     "data": {
      "text/plain": [
       "<Axes: xlabel='typhoon_year', ylabel='track_distance'>"
      ]
     },
     "execution_count": 52,
     "metadata": {},
     "output_type": "execute_result"
    },
    {
     "data": {
      "image/png": "[encoded data removed]",
      "text/plain": [
       "<Figure size 640x480 with 1 Axes>"
      ]
     },
     "metadata": {},
     "output_type": "display_data"
    }
   ],
   "source": [
    "df_windfield.plot.scatter(\"typhoon_year\", \"track_distance\")"
   ]
  },
  {
   "cell_type": "markdown",
   "id": "d684b413-d8b8-448b-8657-7f84518ab06a",
   "metadata": {},
   "source": [
    "## Sanity checks"
   ]
  },
  {
   "cell_type": "code",
   "execution_count": 104,
   "id": "8510d523",
   "metadata": {},
   "outputs": [
    {
     "data": {
      "text/plain": [
       "<Axes: >"
      ]
     },
     "execution_count": 104,
     "metadata": {},
     "output_type": "execute_result"
    },
    {
     "data": {
      "image/png": "[encoded data removed]",
      "text/plain": [
       "<Figure size 640x480 with 1 Axes>"
      ]
     },
     "metadata": {},
     "output_type": "display_data"
    }
   ],
   "source": [
    "# Check that that the grid points match for the example typhoon.\n",
    "# Looks good to me!\n",
    "df_example = df_windfield[df_windfield[\"typhoon_id\"] == \"1972301S25189\"]\n",
    "gdf_example = gdf.merge(df_example, left_on=\"id\", right_on=\"grid_point_id\")\n",
    "gdf_example.plot(c=gdf_example[\"wind_speed\"])"
   ]
  },
  {
   "cell_type": "code",
   "execution_count": 51,
   "id": "9f67cd4e-f264-44fb-8ed8-a73a07cb11ac",
   "metadata": {},
   "outputs": [
    {
     "data": {
      "text/plain": [
       "<Axes: xlabel='track_distance', ylabel='wind_speed'>"
      ]
     },
     "execution_count": 51,
     "metadata": {},
     "output_type": "execute_result"
    },
    {
     "data": {
      "image/png": "[encoded data removed]",
      "text/plain": [
       "<Figure size 640x480 with 1 Axes>"
      ]
     },
     "metadata": {},
     "output_type": "display_data"
    }
   ],
   "source": [
    "# Plot wind speed against track distance\n",
    "df_windfield.plot.scatter(\"track_distance\", \"wind_speed\")"
   ]
  },
  {
   "cell_type": "markdown",
   "id": "3545207c-ee04-43a6-9215-fe61a294e2a2",
   "metadata": {},
   "source": [
    "## Save everything"
   ]
  },
  {
   "cell_type": "code",
   "execution_count": 106,
   "id": "0a856d55",
   "metadata": {},
   "outputs": [],
   "source": [
    "# Save df as a csv file\n",
    "df_windfield.to_csv(input_dir / \"01_windfield/windfield_data.csv\")"
   ]
  },
  {
   "cell_type": "code",
   "execution_count": 178,
   "id": "e64ed03e-cb3f-4e88-bf92-43663497874c",
   "metadata": {},
   "outputs": [],
   "source": [
    "typhoons_df.to_csv(input_dir / \"01_windfield/typhoons.csv\")"
   ]
  },
  {
   "cell_type": "code",
   "execution_count": 183,
   "id": "cf29b397-e519-4670-96d0-6290a00518a0",
   "metadata": {},
   "outputs": [],
   "source": [
    "typhoon_metadata.to_csv(\n",
    "    input_dir / \"03_rainfall/input/metadata_typhoons.csv\", index=False\n",
    ")"
   ]
  }
 ],
 "metadata": {
  "jupytext": {
   "cell_metadata_filter": "-all",
   "formats": "md,ipynb",
   "notebook_metadata_filter": "-all"
  },
  "kernelspec": {
   "display_name": "GlobalTropicalCycloneModel",
   "language": "python",
   "name": "globaltropicalcyclonemodel"
  },
  "language_info": {
   "codemirror_mode": {
    "name": "ipython",
    "version": 3
   },
   "file_extension": ".py",
   "mimetype": "text/x-python",
   "name": "python",
   "nbconvert_exporter": "python",
   "pygments_lexer": "ipython3",
   "version": "3.11.4"
  }
 },
 "nbformat": 4,
 "nbformat_minor": 5
}
