{
 "cells": [
  {
   "attachments": {},
   "cell_type": "markdown",
   "metadata": {},
   "source": [
    "# Google Building Footprint Data"
   ]
  },
  {
   "attachments": {},
   "cell_type": "markdown",
   "metadata": {},
   "source": [
    "NOTE: no data for Fiji :(\n",
    "\n",
    "The data is gotten from `https://sites.research.google/open-buildings/#download`"
   ]
  },
  {
   "cell_type": "code",
   "execution_count": 3,
   "metadata": {},
   "outputs": [
    {
     "name": "stdout",
     "output_type": "stream",
     "text": [
      "The jupyter_black extension is already loaded. To reload it, use:\n",
      "  %reload_ext jupyter_black\n"
     ]
    },
    {
     "data": {
      "text/plain": [
       "True"
      ]
     },
     "execution_count": 3,
     "metadata": {},
     "output_type": "execute_result"
    }
   ],
   "source": [
    "%load_ext jupyter_black\n",
    "import pandas as pd\n",
    "import geopandas as gpd\n",
    "import os\n",
    "from pathlib import Path\n",
    "import requests\n",
    "from dotenv import load_dotenv\n",
    "\n",
    "load_dotenv()"
   ]
  },
  {
   "cell_type": "code",
   "execution_count": 4,
   "metadata": {},
   "outputs": [],
   "source": [
    "base_url = (\n",
    "    Path(os.getenv(\"STORM_DATA_DIR\"))\n",
    "    / \"analysis/02_new_model_input_fji/02_housing_damage/\"\n",
    ")\n",
    "input_dir = base_url / \"input/Google Footprint Data/\"\n",
    "shp_input_dir = base_url / \"input/\"\n",
    "output_dir = base_url / \"output/\""
   ]
  },
  {
   "cell_type": "code",
   "execution_count": 5,
   "metadata": {},
   "outputs": [
    {
     "name": "stderr",
     "output_type": "stream",
     "text": [
      "ERROR:fiona._env:`/vsizip//Users/tdowning/Insync/tristan.downing@humdata.org/Google Drive - Shared drives/Predictive Analytics/Collaborations/ISI/data/analysis/02_new_model_input_fji/02_housing_damage/input/fji_adminboundaries_candidate_adm3.zip' does not exist in the file system, and is not recognized as a supported dataset name.\n"
     ]
    },
    {
     "ename": "DriverError",
     "evalue": "'/vsizip//Users/tdowning/Insync/tristan.downing@humdata.org/Google Drive - Shared drives/Predictive Analytics/Collaborations/ISI/data/analysis/02_new_model_input_fji/02_housing_damage/input/fji_adminboundaries_candidate_adm3.zip' does not exist in the file system, and is not recognized as a supported dataset name.",
     "output_type": "error",
     "traceback": [
      "\u001b[0;31m---------------------------------------------------------------------------\u001b[0m",
      "\u001b[0;31mCPLE_OpenFailedError\u001b[0m                      Traceback (most recent call last)",
      "File \u001b[0;32mfiona/ogrext.pyx:136\u001b[0m, in \u001b[0;36mfiona.ogrext.gdal_open_vector\u001b[0;34m()\u001b[0m\n",
      "File \u001b[0;32mfiona/_err.pyx:291\u001b[0m, in \u001b[0;36mfiona._err.exc_wrap_pointer\u001b[0;34m()\u001b[0m\n",
      "\u001b[0;31mCPLE_OpenFailedError\u001b[0m: '/vsizip//Users/tdowning/Insync/tristan.downing@humdata.org/Google Drive - Shared drives/Predictive Analytics/Collaborations/ISI/data/analysis/02_new_model_input_fji/02_housing_damage/input/fji_adminboundaries_candidate_adm3.zip' does not exist in the file system, and is not recognized as a supported dataset name.",
      "\nDuring handling of the above exception, another exception occurred:\n",
      "\u001b[0;31mDriverError\u001b[0m                               Traceback (most recent call last)",
      "Cell \u001b[0;32mIn[5], line 1\u001b[0m\n\u001b[0;32m----> 1\u001b[0m adm3_shp \u001b[38;5;241m=\u001b[39m \u001b[43mgpd\u001b[49m\u001b[38;5;241;43m.\u001b[39;49m\u001b[43mread_file\u001b[49m\u001b[43m(\u001b[49m\n\u001b[1;32m      2\u001b[0m \u001b[43m    \u001b[49m\u001b[43mshp_input_dir\u001b[49m\u001b[43m \u001b[49m\u001b[38;5;241;43m/\u001b[39;49m\u001b[43m \u001b[49m\u001b[38;5;124;43m\"\u001b[39;49m\u001b[38;5;124;43mfji_adminboundaries_candidate_adm3.zip\u001b[39;49m\u001b[38;5;124;43m\"\u001b[39;49m\n\u001b[1;32m      3\u001b[0m \u001b[43m)\u001b[49m\n\u001b[1;32m      4\u001b[0m grid \u001b[38;5;241m=\u001b[39m gpd\u001b[38;5;241m.\u001b[39mread_file(output_dir \u001b[38;5;241m/\u001b[39m \u001b[38;5;124m\"\u001b[39m\u001b[38;5;124mfji_0.1_degree_grid_land_overlap.gpkg\u001b[39m\u001b[38;5;124m\"\u001b[39m)\n\u001b[1;32m      5\u001b[0m adm3_grid_intersection \u001b[38;5;241m=\u001b[39m gpd\u001b[38;5;241m.\u001b[39mread_file(\n\u001b[1;32m      6\u001b[0m     shp_input_dir \u001b[38;5;241m/\u001b[39m \u001b[38;5;124m\"\u001b[39m\u001b[38;5;124mfji_adm3_grid_intersection.gpkg\u001b[39m\u001b[38;5;124m\"\u001b[39m\n\u001b[1;32m      7\u001b[0m )\n",
      "File \u001b[0;32m~/.pyenv/versions/3.11.4/envs/GlobalTropicalCycloneModel/lib/python3.11/site-packages/geopandas/io/file.py:281\u001b[0m, in \u001b[0;36m_read_file\u001b[0;34m(filename, bbox, mask, rows, engine, **kwargs)\u001b[0m\n\u001b[1;32m    278\u001b[0m     \u001b[38;5;28;01melse\u001b[39;00m:\n\u001b[1;32m    279\u001b[0m         path_or_bytes \u001b[38;5;241m=\u001b[39m filename\n\u001b[0;32m--> 281\u001b[0m     \u001b[38;5;28;01mreturn\u001b[39;00m \u001b[43m_read_file_fiona\u001b[49m\u001b[43m(\u001b[49m\n\u001b[1;32m    282\u001b[0m \u001b[43m        \u001b[49m\u001b[43mpath_or_bytes\u001b[49m\u001b[43m,\u001b[49m\u001b[43m \u001b[49m\u001b[43mfrom_bytes\u001b[49m\u001b[43m,\u001b[49m\u001b[43m \u001b[49m\u001b[43mbbox\u001b[49m\u001b[38;5;241;43m=\u001b[39;49m\u001b[43mbbox\u001b[49m\u001b[43m,\u001b[49m\u001b[43m \u001b[49m\u001b[43mmask\u001b[49m\u001b[38;5;241;43m=\u001b[39;49m\u001b[43mmask\u001b[49m\u001b[43m,\u001b[49m\u001b[43m \u001b[49m\u001b[43mrows\u001b[49m\u001b[38;5;241;43m=\u001b[39;49m\u001b[43mrows\u001b[49m\u001b[43m,\u001b[49m\u001b[43m \u001b[49m\u001b[38;5;241;43m*\u001b[39;49m\u001b[38;5;241;43m*\u001b[39;49m\u001b[43mkwargs\u001b[49m\n\u001b[1;32m    283\u001b[0m \u001b[43m    \u001b[49m\u001b[43m)\u001b[49m\n\u001b[1;32m    285\u001b[0m \u001b[38;5;28;01melse\u001b[39;00m:\n\u001b[1;32m    286\u001b[0m     \u001b[38;5;28;01mraise\u001b[39;00m \u001b[38;5;167;01mValueError\u001b[39;00m(\u001b[38;5;124mf\u001b[39m\u001b[38;5;124m\"\u001b[39m\u001b[38;5;124munknown engine \u001b[39m\u001b[38;5;124m'\u001b[39m\u001b[38;5;132;01m{\u001b[39;00mengine\u001b[38;5;132;01m}\u001b[39;00m\u001b[38;5;124m'\u001b[39m\u001b[38;5;124m\"\u001b[39m)\n",
      "File \u001b[0;32m~/.pyenv/versions/3.11.4/envs/GlobalTropicalCycloneModel/lib/python3.11/site-packages/geopandas/io/file.py:322\u001b[0m, in \u001b[0;36m_read_file_fiona\u001b[0;34m(path_or_bytes, from_bytes, bbox, mask, rows, where, **kwargs)\u001b[0m\n\u001b[1;32m    319\u001b[0m     reader \u001b[38;5;241m=\u001b[39m fiona\u001b[38;5;241m.\u001b[39mopen\n\u001b[1;32m    321\u001b[0m \u001b[38;5;28;01mwith\u001b[39;00m fiona_env():\n\u001b[0;32m--> 322\u001b[0m     \u001b[38;5;28;01mwith\u001b[39;00m \u001b[43mreader\u001b[49m\u001b[43m(\u001b[49m\u001b[43mpath_or_bytes\u001b[49m\u001b[43m,\u001b[49m\u001b[43m \u001b[49m\u001b[38;5;241;43m*\u001b[39;49m\u001b[38;5;241;43m*\u001b[39;49m\u001b[43mkwargs\u001b[49m\u001b[43m)\u001b[49m \u001b[38;5;28;01mas\u001b[39;00m features:\n\u001b[1;32m    323\u001b[0m         crs \u001b[38;5;241m=\u001b[39m features\u001b[38;5;241m.\u001b[39mcrs_wkt\n\u001b[1;32m    324\u001b[0m         \u001b[38;5;66;03m# attempt to get EPSG code\u001b[39;00m\n",
      "File \u001b[0;32m~/.pyenv/versions/3.11.4/envs/GlobalTropicalCycloneModel/lib/python3.11/site-packages/fiona/env.py:457\u001b[0m, in \u001b[0;36mensure_env_with_credentials.<locals>.wrapper\u001b[0;34m(*args, **kwds)\u001b[0m\n\u001b[1;32m    454\u001b[0m     session \u001b[38;5;241m=\u001b[39m DummySession()\n\u001b[1;32m    456\u001b[0m \u001b[38;5;28;01mwith\u001b[39;00m env_ctor(session\u001b[38;5;241m=\u001b[39msession):\n\u001b[0;32m--> 457\u001b[0m     \u001b[38;5;28;01mreturn\u001b[39;00m \u001b[43mf\u001b[49m\u001b[43m(\u001b[49m\u001b[38;5;241;43m*\u001b[39;49m\u001b[43margs\u001b[49m\u001b[43m,\u001b[49m\u001b[43m \u001b[49m\u001b[38;5;241;43m*\u001b[39;49m\u001b[38;5;241;43m*\u001b[39;49m\u001b[43mkwds\u001b[49m\u001b[43m)\u001b[49m\n",
      "File \u001b[0;32m~/.pyenv/versions/3.11.4/envs/GlobalTropicalCycloneModel/lib/python3.11/site-packages/fiona/__init__.py:292\u001b[0m, in \u001b[0;36mopen\u001b[0;34m(fp, mode, driver, schema, crs, encoding, layer, vfs, enabled_drivers, crs_wkt, allow_unsupported_drivers, **kwargs)\u001b[0m\n\u001b[1;32m    289\u001b[0m     path \u001b[38;5;241m=\u001b[39m parse_path(fp)\n\u001b[1;32m    291\u001b[0m \u001b[38;5;28;01mif\u001b[39;00m mode \u001b[38;5;129;01min\u001b[39;00m (\u001b[38;5;124m\"\u001b[39m\u001b[38;5;124ma\u001b[39m\u001b[38;5;124m\"\u001b[39m, \u001b[38;5;124m\"\u001b[39m\u001b[38;5;124mr\u001b[39m\u001b[38;5;124m\"\u001b[39m):\n\u001b[0;32m--> 292\u001b[0m     colxn \u001b[38;5;241m=\u001b[39m \u001b[43mCollection\u001b[49m\u001b[43m(\u001b[49m\n\u001b[1;32m    293\u001b[0m \u001b[43m        \u001b[49m\u001b[43mpath\u001b[49m\u001b[43m,\u001b[49m\n\u001b[1;32m    294\u001b[0m \u001b[43m        \u001b[49m\u001b[43mmode\u001b[49m\u001b[43m,\u001b[49m\n\u001b[1;32m    295\u001b[0m \u001b[43m        \u001b[49m\u001b[43mdriver\u001b[49m\u001b[38;5;241;43m=\u001b[39;49m\u001b[43mdriver\u001b[49m\u001b[43m,\u001b[49m\n\u001b[1;32m    296\u001b[0m \u001b[43m        \u001b[49m\u001b[43mencoding\u001b[49m\u001b[38;5;241;43m=\u001b[39;49m\u001b[43mencoding\u001b[49m\u001b[43m,\u001b[49m\n\u001b[1;32m    297\u001b[0m \u001b[43m        \u001b[49m\u001b[43mlayer\u001b[49m\u001b[38;5;241;43m=\u001b[39;49m\u001b[43mlayer\u001b[49m\u001b[43m,\u001b[49m\n\u001b[1;32m    298\u001b[0m \u001b[43m        \u001b[49m\u001b[43menabled_drivers\u001b[49m\u001b[38;5;241;43m=\u001b[39;49m\u001b[43menabled_drivers\u001b[49m\u001b[43m,\u001b[49m\n\u001b[1;32m    299\u001b[0m \u001b[43m        \u001b[49m\u001b[43mallow_unsupported_drivers\u001b[49m\u001b[38;5;241;43m=\u001b[39;49m\u001b[43mallow_unsupported_drivers\u001b[49m\u001b[43m,\u001b[49m\n\u001b[1;32m    300\u001b[0m \u001b[43m        \u001b[49m\u001b[38;5;241;43m*\u001b[39;49m\u001b[38;5;241;43m*\u001b[39;49m\u001b[43mkwargs\u001b[49m\n\u001b[1;32m    301\u001b[0m \u001b[43m    \u001b[49m\u001b[43m)\u001b[49m\n\u001b[1;32m    302\u001b[0m \u001b[38;5;28;01melif\u001b[39;00m mode \u001b[38;5;241m==\u001b[39m \u001b[38;5;124m\"\u001b[39m\u001b[38;5;124mw\u001b[39m\u001b[38;5;124m\"\u001b[39m:\n\u001b[1;32m    303\u001b[0m     colxn \u001b[38;5;241m=\u001b[39m Collection(\n\u001b[1;32m    304\u001b[0m         path,\n\u001b[1;32m    305\u001b[0m         mode,\n\u001b[0;32m   (...)\u001b[0m\n\u001b[1;32m    314\u001b[0m         \u001b[38;5;241m*\u001b[39m\u001b[38;5;241m*\u001b[39mkwargs\n\u001b[1;32m    315\u001b[0m     )\n",
      "File \u001b[0;32m~/.pyenv/versions/3.11.4/envs/GlobalTropicalCycloneModel/lib/python3.11/site-packages/fiona/collection.py:243\u001b[0m, in \u001b[0;36mCollection.__init__\u001b[0;34m(self, path, mode, driver, schema, crs, encoding, layer, vsi, archive, enabled_drivers, crs_wkt, ignore_fields, ignore_geometry, include_fields, wkt_version, allow_unsupported_drivers, **kwargs)\u001b[0m\n\u001b[1;32m    241\u001b[0m \u001b[38;5;28;01mif\u001b[39;00m \u001b[38;5;28mself\u001b[39m\u001b[38;5;241m.\u001b[39mmode \u001b[38;5;241m==\u001b[39m \u001b[38;5;124m\"\u001b[39m\u001b[38;5;124mr\u001b[39m\u001b[38;5;124m\"\u001b[39m:\n\u001b[1;32m    242\u001b[0m     \u001b[38;5;28mself\u001b[39m\u001b[38;5;241m.\u001b[39msession \u001b[38;5;241m=\u001b[39m Session()\n\u001b[0;32m--> 243\u001b[0m     \u001b[38;5;28;43mself\u001b[39;49m\u001b[38;5;241;43m.\u001b[39;49m\u001b[43msession\u001b[49m\u001b[38;5;241;43m.\u001b[39;49m\u001b[43mstart\u001b[49m\u001b[43m(\u001b[49m\u001b[38;5;28;43mself\u001b[39;49m\u001b[43m,\u001b[49m\u001b[43m \u001b[49m\u001b[38;5;241;43m*\u001b[39;49m\u001b[38;5;241;43m*\u001b[39;49m\u001b[43mkwargs\u001b[49m\u001b[43m)\u001b[49m\n\u001b[1;32m    244\u001b[0m \u001b[38;5;28;01melif\u001b[39;00m \u001b[38;5;28mself\u001b[39m\u001b[38;5;241m.\u001b[39mmode \u001b[38;5;129;01min\u001b[39;00m (\u001b[38;5;124m\"\u001b[39m\u001b[38;5;124ma\u001b[39m\u001b[38;5;124m\"\u001b[39m, \u001b[38;5;124m\"\u001b[39m\u001b[38;5;124mw\u001b[39m\u001b[38;5;124m\"\u001b[39m):\n\u001b[1;32m    245\u001b[0m     \u001b[38;5;28mself\u001b[39m\u001b[38;5;241m.\u001b[39msession \u001b[38;5;241m=\u001b[39m WritingSession()\n",
      "File \u001b[0;32mfiona/ogrext.pyx:588\u001b[0m, in \u001b[0;36mfiona.ogrext.Session.start\u001b[0;34m()\u001b[0m\n",
      "File \u001b[0;32mfiona/ogrext.pyx:143\u001b[0m, in \u001b[0;36mfiona.ogrext.gdal_open_vector\u001b[0;34m()\u001b[0m\n",
      "\u001b[0;31mDriverError\u001b[0m: '/vsizip//Users/tdowning/Insync/tristan.downing@humdata.org/Google Drive - Shared drives/Predictive Analytics/Collaborations/ISI/data/analysis/02_new_model_input_fji/02_housing_damage/input/fji_adminboundaries_candidate_adm3.zip' does not exist in the file system, and is not recognized as a supported dataset name."
     ]
    }
   ],
   "source": [
    "adm3_shp = gpd.read_file(\n",
    "    shp_input_dir / \"fji_adminboundaries_candidate_adm3.zip\"\n",
    ")\n",
    "grid = gpd.read_file(output_dir / \"fji_0.1_degree_grid_land_overlap.gpkg\")\n",
    "adm3_grid_intersection = gpd.read_file(\n",
    "    shp_input_dir / \"fji_adm3_grid_intersection.gpkg\"\n",
    ")"
   ]
  },
  {
   "attachments": {},
   "cell_type": "markdown",
   "metadata": {},
   "source": [
    "The files that cover the Philippines are below and are selected by viewing on the map."
   ]
  },
  {
   "attachments": {},
   "cell_type": "markdown",
   "metadata": {},
   "source": [
    "### Downloading data"
   ]
  },
  {
   "cell_type": "code",
   "execution_count": 4,
   "metadata": {},
   "outputs": [],
   "source": [
    "file_pattern = [\"33d\", \"33b\", \"339\", \"325\", \"32f\", \"323\", \"331\", \"347\"]\n",
    "polygons_url_link = \"https://storage.googleapis.com/open-buildings-data/v2/polygons_s2_level_4_gzip/\"\n",
    "points_url_link = \"https://storage.googleapis.com/open-buildings-data/v2/points_s2_level_4_gzip/\"\n",
    "file_list = [patt + \"_buildings.csv.gz\" for patt in file_pattern]"
   ]
  },
  {
   "attachments": {},
   "cell_type": "markdown",
   "metadata": {},
   "source": [
    "Using the points data as we are using centroids."
   ]
  },
  {
   "cell_type": "code",
   "execution_count": null,
   "metadata": {},
   "outputs": [],
   "source": [
    "for file in file_list:\n",
    "    r = requests.get(points_url_link + file, allow_redirects=True)\n",
    "    open(input_dir / file, \"wb\").write(r.content)"
   ]
  },
  {
   "attachments": {},
   "cell_type": "markdown",
   "metadata": {},
   "source": [
    "### Merging all files into one"
   ]
  },
  {
   "cell_type": "code",
   "execution_count": 5,
   "metadata": {},
   "outputs": [
    {
     "data": {
      "text/html": [
       "<div>\n",
       "<style scoped>\n",
       "    .dataframe tbody tr th:only-of-type {\n",
       "        vertical-align: middle;\n",
       "    }\n",
       "\n",
       "    .dataframe tbody tr th {\n",
       "        vertical-align: top;\n",
       "    }\n",
       "\n",
       "    .dataframe thead th {\n",
       "        text-align: right;\n",
       "    }\n",
       "</style>\n",
       "<table border=\"1\" class=\"dataframe\">\n",
       "  <thead>\n",
       "    <tr style=\"text-align: right;\">\n",
       "      <th></th>\n",
       "      <th>latitude</th>\n",
       "      <th>longitude</th>\n",
       "      <th>area_in_meters</th>\n",
       "      <th>confidence</th>\n",
       "      <th>full_plus_code</th>\n",
       "    </tr>\n",
       "  </thead>\n",
       "  <tbody>\n",
       "    <tr>\n",
       "      <th>0</th>\n",
       "      <td>9.429870</td>\n",
       "      <td>118.531309</td>\n",
       "      <td>26.5833</td>\n",
       "      <td>0.6818</td>\n",
       "      <td>6PXWCGHJ+WGVX</td>\n",
       "    </tr>\n",
       "    <tr>\n",
       "      <th>1</th>\n",
       "      <td>9.440374</td>\n",
       "      <td>118.482974</td>\n",
       "      <td>17.9793</td>\n",
       "      <td>0.7408</td>\n",
       "      <td>6PXWCFRM+45XR</td>\n",
       "    </tr>\n",
       "    <tr>\n",
       "      <th>2</th>\n",
       "      <td>9.363887</td>\n",
       "      <td>118.464563</td>\n",
       "      <td>37.3005</td>\n",
       "      <td>0.8230</td>\n",
       "      <td>6PXW9F77+HR4C</td>\n",
       "    </tr>\n",
       "    <tr>\n",
       "      <th>3</th>\n",
       "      <td>9.495301</td>\n",
       "      <td>118.569990</td>\n",
       "      <td>73.2031</td>\n",
       "      <td>0.7485</td>\n",
       "      <td>6PXWFHW9+4XH4</td>\n",
       "    </tr>\n",
       "    <tr>\n",
       "      <th>4</th>\n",
       "      <td>9.381147</td>\n",
       "      <td>118.503310</td>\n",
       "      <td>62.4306</td>\n",
       "      <td>0.8135</td>\n",
       "      <td>6PXW9GJ3+F83X</td>\n",
       "    </tr>\n",
       "    <tr>\n",
       "      <th>...</th>\n",
       "      <td>...</td>\n",
       "      <td>...</td>\n",
       "      <td>...</td>\n",
       "      <td>...</td>\n",
       "      <td>...</td>\n",
       "    </tr>\n",
       "    <tr>\n",
       "      <th>5370</th>\n",
       "      <td>20.449684</td>\n",
       "      <td>121.971273</td>\n",
       "      <td>50.4747</td>\n",
       "      <td>0.6766</td>\n",
       "      <td>7QG3CXXC+VGC8</td>\n",
       "    </tr>\n",
       "    <tr>\n",
       "      <th>5371</th>\n",
       "      <td>19.511708</td>\n",
       "      <td>121.913273</td>\n",
       "      <td>68.3271</td>\n",
       "      <td>0.7195</td>\n",
       "      <td>7QF3GW67+M8J8</td>\n",
       "    </tr>\n",
       "    <tr>\n",
       "      <th>5372</th>\n",
       "      <td>20.451546</td>\n",
       "      <td>121.972214</td>\n",
       "      <td>7.8440</td>\n",
       "      <td>0.6061</td>\n",
       "      <td>7QG3FX2C+JV8X</td>\n",
       "    </tr>\n",
       "    <tr>\n",
       "      <th>5373</th>\n",
       "      <td>20.619810</td>\n",
       "      <td>121.707082</td>\n",
       "      <td>7.3060</td>\n",
       "      <td>0.6186</td>\n",
       "      <td>7QG3JP94+WRG8</td>\n",
       "    </tr>\n",
       "    <tr>\n",
       "      <th>5374</th>\n",
       "      <td>20.451351</td>\n",
       "      <td>121.974802</td>\n",
       "      <td>28.4022</td>\n",
       "      <td>0.6083</td>\n",
       "      <td>7QG3FX2F+GWV4</td>\n",
       "    </tr>\n",
       "  </tbody>\n",
       "</table>\n",
       "<p>35173510 rows × 5 columns</p>\n",
       "</div>"
      ],
      "text/plain": [
       "       latitude   longitude  area_in_meters  confidence full_plus_code\n",
       "0      9.429870  118.531309         26.5833      0.6818  6PXWCGHJ+WGVX\n",
       "1      9.440374  118.482974         17.9793      0.7408  6PXWCFRM+45XR\n",
       "2      9.363887  118.464563         37.3005      0.8230  6PXW9F77+HR4C\n",
       "3      9.495301  118.569990         73.2031      0.7485  6PXWFHW9+4XH4\n",
       "4      9.381147  118.503310         62.4306      0.8135  6PXW9GJ3+F83X\n",
       "...         ...         ...             ...         ...            ...\n",
       "5370  20.449684  121.971273         50.4747      0.6766  7QG3CXXC+VGC8\n",
       "5371  19.511708  121.913273         68.3271      0.7195  7QF3GW67+M8J8\n",
       "5372  20.451546  121.972214          7.8440      0.6061  7QG3FX2C+JV8X\n",
       "5373  20.619810  121.707082          7.3060      0.6186  7QG3JP94+WRG8\n",
       "5374  20.451351  121.974802         28.4022      0.6083  7QG3FX2F+GWV4\n",
       "\n",
       "[35173510 rows x 5 columns]"
      ]
     },
     "execution_count": 5,
     "metadata": {},
     "output_type": "execute_result"
    }
   ],
   "source": [
    "google_df = pd.DataFrame()\n",
    "for file in file_list:\n",
    "    zone_file = pd.read_csv(input_dir / file, compression=\"gzip\")\n",
    "    google_df = pd.concat([google_df, zone_file])\n",
    "google_df"
   ]
  },
  {
   "cell_type": "code",
   "execution_count": 11,
   "metadata": {},
   "outputs": [],
   "source": [
    "google_df.to_csv(input_dir / \"google_footprint_data.csv\", index=False)\n",
    "# google_df = pd.read_csv(input_dir / \"google_footprint_data.csv\")"
   ]
  },
  {
   "cell_type": "code",
   "execution_count": 6,
   "metadata": {},
   "outputs": [
    {
     "data": {
      "text/html": [
       "<div>\n",
       "<style scoped>\n",
       "    .dataframe tbody tr th:only-of-type {\n",
       "        vertical-align: middle;\n",
       "    }\n",
       "\n",
       "    .dataframe tbody tr th {\n",
       "        vertical-align: top;\n",
       "    }\n",
       "\n",
       "    .dataframe thead th {\n",
       "        text-align: right;\n",
       "    }\n",
       "</style>\n",
       "<table border=\"1\" class=\"dataframe\">\n",
       "  <thead>\n",
       "    <tr style=\"text-align: right;\">\n",
       "      <th></th>\n",
       "      <th>latitude</th>\n",
       "      <th>longitude</th>\n",
       "      <th>area_in_meters</th>\n",
       "      <th>confidence</th>\n",
       "      <th>full_plus_code</th>\n",
       "    </tr>\n",
       "  </thead>\n",
       "  <tbody>\n",
       "    <tr>\n",
       "      <th>1844083</th>\n",
       "      <td>17.382679</td>\n",
       "      <td>122.138921</td>\n",
       "      <td>10.7012</td>\n",
       "      <td>0.6136</td>\n",
       "      <td>7Q9494MQ+3HF3</td>\n",
       "    </tr>\n",
       "  </tbody>\n",
       "</table>\n",
       "</div>"
      ],
      "text/plain": [
       "          latitude   longitude  area_in_meters  confidence full_plus_code\n",
       "1844083  17.382679  122.138921         10.7012      0.6136  7Q9494MQ+3HF3"
      ]
     },
     "execution_count": 6,
     "metadata": {},
     "output_type": "execute_result"
    }
   ],
   "source": [
    "google_df[\n",
    "    (google_df[\"latitude\"].between(17.35, 17.45))\n",
    "    & (google_df[\"longitude\"].between(122.05, 122.15))\n",
    "]"
   ]
  },
  {
   "cell_type": "code",
   "execution_count": 7,
   "metadata": {},
   "outputs": [],
   "source": [
    "# converting point df to geodataframe\n",
    "ggl_gdf = gpd.GeoDataFrame(\n",
    "    google_df,\n",
    "    geometry=gpd.points_from_xy(google_df.longitude, google_df.latitude),\n",
    ")"
   ]
  },
  {
   "cell_type": "code",
   "execution_count": 8,
   "metadata": {},
   "outputs": [
    {
     "data": {
      "text/html": [
       "<div>\n",
       "<style scoped>\n",
       "    .dataframe tbody tr th:only-of-type {\n",
       "        vertical-align: middle;\n",
       "    }\n",
       "\n",
       "    .dataframe tbody tr th {\n",
       "        vertical-align: top;\n",
       "    }\n",
       "\n",
       "    .dataframe thead th {\n",
       "        text-align: right;\n",
       "    }\n",
       "</style>\n",
       "<table border=\"1\" class=\"dataframe\">\n",
       "  <thead>\n",
       "    <tr style=\"text-align: right;\">\n",
       "      <th></th>\n",
       "      <th>latitude</th>\n",
       "      <th>longitude</th>\n",
       "      <th>area_in_meters</th>\n",
       "      <th>confidence</th>\n",
       "      <th>full_plus_code</th>\n",
       "      <th>geometry</th>\n",
       "    </tr>\n",
       "  </thead>\n",
       "  <tbody>\n",
       "    <tr>\n",
       "      <th>0</th>\n",
       "      <td>9.429870</td>\n",
       "      <td>118.531309</td>\n",
       "      <td>26.5833</td>\n",
       "      <td>0.6818</td>\n",
       "      <td>6PXWCGHJ+WGVX</td>\n",
       "      <td>POINT (118.53131 9.42987)</td>\n",
       "    </tr>\n",
       "    <tr>\n",
       "      <th>1</th>\n",
       "      <td>9.440374</td>\n",
       "      <td>118.482974</td>\n",
       "      <td>17.9793</td>\n",
       "      <td>0.7408</td>\n",
       "      <td>6PXWCFRM+45XR</td>\n",
       "      <td>POINT (118.48297 9.44037)</td>\n",
       "    </tr>\n",
       "    <tr>\n",
       "      <th>2</th>\n",
       "      <td>9.363887</td>\n",
       "      <td>118.464563</td>\n",
       "      <td>37.3005</td>\n",
       "      <td>0.8230</td>\n",
       "      <td>6PXW9F77+HR4C</td>\n",
       "      <td>POINT (118.46456 9.36389)</td>\n",
       "    </tr>\n",
       "    <tr>\n",
       "      <th>3</th>\n",
       "      <td>9.495301</td>\n",
       "      <td>118.569990</td>\n",
       "      <td>73.2031</td>\n",
       "      <td>0.7485</td>\n",
       "      <td>6PXWFHW9+4XH4</td>\n",
       "      <td>POINT (118.56999 9.49530)</td>\n",
       "    </tr>\n",
       "    <tr>\n",
       "      <th>4</th>\n",
       "      <td>9.381147</td>\n",
       "      <td>118.503310</td>\n",
       "      <td>62.4306</td>\n",
       "      <td>0.8135</td>\n",
       "      <td>6PXW9GJ3+F83X</td>\n",
       "      <td>POINT (118.50331 9.38115)</td>\n",
       "    </tr>\n",
       "    <tr>\n",
       "      <th>...</th>\n",
       "      <td>...</td>\n",
       "      <td>...</td>\n",
       "      <td>...</td>\n",
       "      <td>...</td>\n",
       "      <td>...</td>\n",
       "      <td>...</td>\n",
       "    </tr>\n",
       "    <tr>\n",
       "      <th>5370</th>\n",
       "      <td>20.449684</td>\n",
       "      <td>121.971273</td>\n",
       "      <td>50.4747</td>\n",
       "      <td>0.6766</td>\n",
       "      <td>7QG3CXXC+VGC8</td>\n",
       "      <td>POINT (121.97127 20.44968)</td>\n",
       "    </tr>\n",
       "    <tr>\n",
       "      <th>5371</th>\n",
       "      <td>19.511708</td>\n",
       "      <td>121.913273</td>\n",
       "      <td>68.3271</td>\n",
       "      <td>0.7195</td>\n",
       "      <td>7QF3GW67+M8J8</td>\n",
       "      <td>POINT (121.91327 19.51171)</td>\n",
       "    </tr>\n",
       "    <tr>\n",
       "      <th>5372</th>\n",
       "      <td>20.451546</td>\n",
       "      <td>121.972214</td>\n",
       "      <td>7.8440</td>\n",
       "      <td>0.6061</td>\n",
       "      <td>7QG3FX2C+JV8X</td>\n",
       "      <td>POINT (121.97221 20.45155)</td>\n",
       "    </tr>\n",
       "    <tr>\n",
       "      <th>5373</th>\n",
       "      <td>20.619810</td>\n",
       "      <td>121.707082</td>\n",
       "      <td>7.3060</td>\n",
       "      <td>0.6186</td>\n",
       "      <td>7QG3JP94+WRG8</td>\n",
       "      <td>POINT (121.70708 20.61981)</td>\n",
       "    </tr>\n",
       "    <tr>\n",
       "      <th>5374</th>\n",
       "      <td>20.451351</td>\n",
       "      <td>121.974802</td>\n",
       "      <td>28.4022</td>\n",
       "      <td>0.6083</td>\n",
       "      <td>7QG3FX2F+GWV4</td>\n",
       "      <td>POINT (121.97480 20.45135)</td>\n",
       "    </tr>\n",
       "  </tbody>\n",
       "</table>\n",
       "<p>35173510 rows × 6 columns</p>\n",
       "</div>"
      ],
      "text/plain": [
       "       latitude   longitude  area_in_meters  confidence full_plus_code  \\\n",
       "0      9.429870  118.531309         26.5833      0.6818  6PXWCGHJ+WGVX   \n",
       "1      9.440374  118.482974         17.9793      0.7408  6PXWCFRM+45XR   \n",
       "2      9.363887  118.464563         37.3005      0.8230  6PXW9F77+HR4C   \n",
       "3      9.495301  118.569990         73.2031      0.7485  6PXWFHW9+4XH4   \n",
       "4      9.381147  118.503310         62.4306      0.8135  6PXW9GJ3+F83X   \n",
       "...         ...         ...             ...         ...            ...   \n",
       "5370  20.449684  121.971273         50.4747      0.6766  7QG3CXXC+VGC8   \n",
       "5371  19.511708  121.913273         68.3271      0.7195  7QF3GW67+M8J8   \n",
       "5372  20.451546  121.972214          7.8440      0.6061  7QG3FX2C+JV8X   \n",
       "5373  20.619810  121.707082          7.3060      0.6186  7QG3JP94+WRG8   \n",
       "5374  20.451351  121.974802         28.4022      0.6083  7QG3FX2F+GWV4   \n",
       "\n",
       "                        geometry  \n",
       "0      POINT (118.53131 9.42987)  \n",
       "1      POINT (118.48297 9.44037)  \n",
       "2      POINT (118.46456 9.36389)  \n",
       "3      POINT (118.56999 9.49530)  \n",
       "4      POINT (118.50331 9.38115)  \n",
       "...                          ...  \n",
       "5370  POINT (121.97127 20.44968)  \n",
       "5371  POINT (121.91327 19.51171)  \n",
       "5372  POINT (121.97221 20.45155)  \n",
       "5373  POINT (121.70708 20.61981)  \n",
       "5374  POINT (121.97480 20.45135)  \n",
       "\n",
       "[35173510 rows x 6 columns]"
      ]
     },
     "execution_count": 8,
     "metadata": {},
     "output_type": "execute_result"
    }
   ],
   "source": [
    "ggl_gdf.set_crs(adm3_shp.crs, inplace=True)"
   ]
  },
  {
   "cell_type": "code",
   "execution_count": 9,
   "metadata": {},
   "outputs": [],
   "source": [
    "# ggl_gdf.to_file(input_dir / \"google_footprint_data.gpkg\", driver=\"GPKG\")\n",
    "# ggl_gdf = gpd.read_file(input_dir / \"google_footprint_data.gpkg\")"
   ]
  },
  {
   "attachments": {},
   "cell_type": "markdown",
   "metadata": {},
   "source": [
    "## Counting number of buildings by region"
   ]
  },
  {
   "cell_type": "code",
   "execution_count": 10,
   "metadata": {},
   "outputs": [],
   "source": [
    "del google_df"
   ]
  },
  {
   "cell_type": "code",
   "execution_count": 11,
   "metadata": {},
   "outputs": [],
   "source": [
    "# ensuring all buildings are within municipality bounds\n",
    "ggl_gdf_within = gpd.sjoin(ggl_gdf, adm3_shp, how=\"inner\", predicate=\"within\")"
   ]
  },
  {
   "cell_type": "code",
   "execution_count": 12,
   "metadata": {},
   "outputs": [],
   "source": [
    "del ggl_gdf"
   ]
  },
  {
   "cell_type": "code",
   "execution_count": 13,
   "metadata": {},
   "outputs": [],
   "source": [
    "ggl_gdf_within.drop(\n",
    "    ggl_gdf_within.columns.difference([\"latitude\", \"longitude\", \"geometry\"]),\n",
    "    axis=1,\n",
    "    inplace=True,\n",
    ")\n",
    "ggl_gdf_within[\"random_id\"] = ggl_gdf_within.reset_index().index + 1"
   ]
  },
  {
   "cell_type": "code",
   "execution_count": 14,
   "metadata": {},
   "outputs": [
    {
     "data": {
      "text/html": [
       "<div>\n",
       "<style scoped>\n",
       "    .dataframe tbody tr th:only-of-type {\n",
       "        vertical-align: middle;\n",
       "    }\n",
       "\n",
       "    .dataframe tbody tr th {\n",
       "        vertical-align: top;\n",
       "    }\n",
       "\n",
       "    .dataframe thead th {\n",
       "        text-align: right;\n",
       "    }\n",
       "</style>\n",
       "<table border=\"1\" class=\"dataframe\">\n",
       "  <thead>\n",
       "    <tr style=\"text-align: right;\">\n",
       "      <th></th>\n",
       "      <th>latitude</th>\n",
       "      <th>longitude</th>\n",
       "      <th>geometry</th>\n",
       "      <th>random_id</th>\n",
       "    </tr>\n",
       "  </thead>\n",
       "  <tbody>\n",
       "    <tr>\n",
       "      <th>1844083</th>\n",
       "      <td>17.382679</td>\n",
       "      <td>122.138921</td>\n",
       "      <td>POINT (122.13892 17.38268)</td>\n",
       "      <td>24102107</td>\n",
       "    </tr>\n",
       "  </tbody>\n",
       "</table>\n",
       "</div>"
      ],
      "text/plain": [
       "          latitude   longitude                    geometry  random_id\n",
       "1844083  17.382679  122.138921  POINT (122.13892 17.38268)   24102107"
      ]
     },
     "execution_count": 14,
     "metadata": {},
     "output_type": "execute_result"
    }
   ],
   "source": [
    "ggl_gdf_within[\n",
    "    (ggl_gdf_within[\"latitude\"].between(17.35, 17.45))\n",
    "    & (ggl_gdf_within[\"longitude\"].between(122.05, 122.15))\n",
    "]"
   ]
  },
  {
   "cell_type": "code",
   "execution_count": 16,
   "metadata": {},
   "outputs": [
    {
     "data": {
      "text/plain": [
       "(33466954, 4)"
      ]
     },
     "execution_count": 16,
     "metadata": {},
     "output_type": "execute_result"
    }
   ],
   "source": [
    "ggl_gdf_within.shape"
   ]
  },
  {
   "attachments": {},
   "cell_type": "markdown",
   "metadata": {},
   "source": [
    "### By Municipality"
   ]
  },
  {
   "cell_type": "code",
   "execution_count": 51,
   "metadata": {},
   "outputs": [],
   "source": [
    "phl_ggl_bld_municip_count = (\n",
    "    adm3_shp.sjoin(ggl_gdf_within, how=\"left\")\n",
    "    .groupby(\"ADM3_PCODE\")\n",
    "    .count()\n",
    "    .rename(columns={\"random_id\": \"numbuildings\"})\n",
    "    .reset_index()[[\"ADM3_PCODE\", \"numbuildings\"]]\n",
    ")"
   ]
  },
  {
   "cell_type": "code",
   "execution_count": 52,
   "metadata": {},
   "outputs": [
    {
     "data": {
      "text/plain": [
       "33466954"
      ]
     },
     "execution_count": 52,
     "metadata": {},
     "output_type": "execute_result"
    }
   ],
   "source": [
    "phl_ggl_bld_municip_count[\"numbuildings\"].sum()"
   ]
  },
  {
   "cell_type": "code",
   "execution_count": 53,
   "metadata": {},
   "outputs": [],
   "source": [
    "phl_ggl_bld_municip_count.to_csv(\n",
    "    input_dir / \"phl_google_bld_municip_count.csv\", index=False\n",
    ")"
   ]
  },
  {
   "cell_type": "code",
   "execution_count": 56,
   "metadata": {},
   "outputs": [],
   "source": [
    "del phl_ggl_bld_municip_count"
   ]
  },
  {
   "attachments": {},
   "cell_type": "markdown",
   "metadata": {},
   "source": [
    "### By Grid"
   ]
  },
  {
   "cell_type": "code",
   "execution_count": 45,
   "metadata": {},
   "outputs": [],
   "source": [
    "phl_ggl_bld_grid_count = (\n",
    "    grid.sjoin(ggl_gdf_within, how=\"left\")\n",
    "    .groupby([\"id\", \"Centroid\"])\n",
    "    .count()\n",
    "    .rename(columns={\"random_id\": \"numbuildings\"})\n",
    "    .reset_index()[[\"id\", \"Centroid\", \"numbuildings\"]]\n",
    ")"
   ]
  },
  {
   "cell_type": "code",
   "execution_count": 47,
   "metadata": {},
   "outputs": [
    {
     "data": {
      "text/plain": [
       "33466954"
      ]
     },
     "execution_count": 47,
     "metadata": {},
     "output_type": "execute_result"
    }
   ],
   "source": [
    "phl_ggl_bld_grid_count[\"numbuildings\"].sum()"
   ]
  },
  {
   "cell_type": "code",
   "execution_count": 49,
   "metadata": {},
   "outputs": [
    {
     "data": {
      "text/html": [
       "<div>\n",
       "<style scoped>\n",
       "    .dataframe tbody tr th:only-of-type {\n",
       "        vertical-align: middle;\n",
       "    }\n",
       "\n",
       "    .dataframe tbody tr th {\n",
       "        vertical-align: top;\n",
       "    }\n",
       "\n",
       "    .dataframe thead th {\n",
       "        text-align: right;\n",
       "    }\n",
       "</style>\n",
       "<table border=\"1\" class=\"dataframe\">\n",
       "  <thead>\n",
       "    <tr style=\"text-align: right;\">\n",
       "      <th></th>\n",
       "      <th>id</th>\n",
       "      <th>Centroid</th>\n",
       "      <th>numbuildings</th>\n",
       "    </tr>\n",
       "  </thead>\n",
       "  <tbody>\n",
       "    <tr>\n",
       "      <th>1565</th>\n",
       "      <td>13064</td>\n",
       "      <td>122.1E_17.4N</td>\n",
       "      <td>1</td>\n",
       "    </tr>\n",
       "  </tbody>\n",
       "</table>\n",
       "</div>"
      ],
      "text/plain": [
       "         id      Centroid  numbuildings\n",
       "1565  13064  122.1E_17.4N             1"
      ]
     },
     "execution_count": 49,
     "metadata": {},
     "output_type": "execute_result"
    }
   ],
   "source": [
    "phl_ggl_bld_grid_count[phl_ggl_bld_grid_count[\"Centroid\"] == \"122.1E_17.4N\"]"
   ]
  },
  {
   "cell_type": "code",
   "execution_count": 50,
   "metadata": {},
   "outputs": [],
   "source": [
    "phl_ggl_bld_grid_count.to_csv(\n",
    "    input_dir / \"phl_google_bld_grid_count.csv\", index=False\n",
    ")"
   ]
  },
  {
   "cell_type": "code",
   "execution_count": 55,
   "metadata": {},
   "outputs": [],
   "source": [
    "del phl_ggl_bld_grid_count"
   ]
  },
  {
   "attachments": {},
   "cell_type": "markdown",
   "metadata": {},
   "source": [
    "### By Municipality and Grid Intersection"
   ]
  },
  {
   "cell_type": "code",
   "execution_count": 59,
   "metadata": {},
   "outputs": [],
   "source": [
    "del adm3_shp, grid"
   ]
  },
  {
   "cell_type": "code",
   "execution_count": 17,
   "metadata": {},
   "outputs": [],
   "source": [
    "phl_ggl_bld_intersection_count = (\n",
    "    adm3_grid_intersection.sjoin(ggl_gdf_within, how=\"left\")\n",
    "    .groupby([\"ADM3_PCODE\", \"id\", \"Centroid\"])\n",
    "    .count()\n",
    "    .rename(columns={\"random_id\": \"numbuildings\"})\n",
    "    .reset_index()[[\"ADM3_PCODE\", \"id\", \"Centroid\", \"numbuildings\"]]\n",
    ")"
   ]
  },
  {
   "cell_type": "code",
   "execution_count": 18,
   "metadata": {},
   "outputs": [
    {
     "data": {
      "text/plain": [
       "33466954"
      ]
     },
     "execution_count": 18,
     "metadata": {},
     "output_type": "execute_result"
    }
   ],
   "source": [
    "phl_ggl_bld_intersection_count[\"numbuildings\"].sum()"
   ]
  },
  {
   "cell_type": "code",
   "execution_count": 19,
   "metadata": {},
   "outputs": [
    {
     "data": {
      "text/html": [
       "<div>\n",
       "<style scoped>\n",
       "    .dataframe tbody tr th:only-of-type {\n",
       "        vertical-align: middle;\n",
       "    }\n",
       "\n",
       "    .dataframe tbody tr th {\n",
       "        vertical-align: top;\n",
       "    }\n",
       "\n",
       "    .dataframe thead th {\n",
       "        text-align: right;\n",
       "    }\n",
       "</style>\n",
       "<table border=\"1\" class=\"dataframe\">\n",
       "  <thead>\n",
       "    <tr style=\"text-align: right;\">\n",
       "      <th></th>\n",
       "      <th>ADM3_PCODE</th>\n",
       "      <th>id</th>\n",
       "      <th>Centroid</th>\n",
       "      <th>numbuildings</th>\n",
       "    </tr>\n",
       "  </thead>\n",
       "  <tbody>\n",
       "    <tr>\n",
       "      <th>850</th>\n",
       "      <td>PH023106000</td>\n",
       "      <td>13064.0</td>\n",
       "      <td>122.1E_17.4N</td>\n",
       "      <td>0</td>\n",
       "    </tr>\n",
       "    <tr>\n",
       "      <th>956</th>\n",
       "      <td>PH023117000</td>\n",
       "      <td>13064.0</td>\n",
       "      <td>122.1E_17.4N</td>\n",
       "      <td>1</td>\n",
       "    </tr>\n",
       "    <tr>\n",
       "      <th>1069</th>\n",
       "      <td>PH023133000</td>\n",
       "      <td>13064.0</td>\n",
       "      <td>122.1E_17.4N</td>\n",
       "      <td>0</td>\n",
       "    </tr>\n",
       "    <tr>\n",
       "      <th>1091</th>\n",
       "      <td>PH023137000</td>\n",
       "      <td>13064.0</td>\n",
       "      <td>122.1E_17.4N</td>\n",
       "      <td>0</td>\n",
       "    </tr>\n",
       "  </tbody>\n",
       "</table>\n",
       "</div>"
      ],
      "text/plain": [
       "       ADM3_PCODE       id      Centroid  numbuildings\n",
       "850   PH023106000  13064.0  122.1E_17.4N             0\n",
       "956   PH023117000  13064.0  122.1E_17.4N             1\n",
       "1069  PH023133000  13064.0  122.1E_17.4N             0\n",
       "1091  PH023137000  13064.0  122.1E_17.4N             0"
      ]
     },
     "execution_count": 19,
     "metadata": {},
     "output_type": "execute_result"
    }
   ],
   "source": [
    "phl_ggl_bld_intersection_count[\n",
    "    phl_ggl_bld_intersection_count[\"Centroid\"] == \"122.1E_17.4N\"\n",
    "]"
   ]
  },
  {
   "cell_type": "code",
   "execution_count": 20,
   "metadata": {},
   "outputs": [],
   "source": [
    "phl_ggl_bld_intersection_count[\n",
    "    [\"ADM3_PCODE\", \"id\", \"Centroid\", \"numbuildings\"]\n",
    "].to_csv(input_dir / \"phl_google_bld_intersection_count.csv\", index=False)"
   ]
  }
 ],
 "metadata": {
  "kernelspec": {
   "display_name": "Python 3 (ipykernel)",
   "language": "python",
   "name": "python3"
  },
  "language_info": {
   "codemirror_mode": {
    "name": "ipython",
    "version": 3
   },
   "file_extension": ".py",
   "mimetype": "text/x-python",
   "name": "python",
   "nbconvert_exporter": "python",
   "pygments_lexer": "ipython3",
   "version": "3.11.4"
  },
  "vscode": {
   "interpreter": {
    "hash": "d0bf5227c718a54401bc80004b44f7ad33fb80a867a635817764b403a4b4c0f1"
   }
  }
 },
 "nbformat": 4,
 "nbformat_minor": 4
}
